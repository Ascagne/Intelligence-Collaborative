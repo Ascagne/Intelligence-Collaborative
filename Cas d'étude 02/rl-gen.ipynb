{
 "cells": [
  {
   "cell_type": "code",
   "execution_count": 1,
   "id": "occupied-wagner",
   "metadata": {
    "_cell_guid": "b1076dfc-b9ad-4769-8c92-a6c4dae69d19",
    "_uuid": "8f2839f25d086af736a60e9eeb907d3b93b6e0e5",
    "execution": {
     "iopub.execute_input": "2021-04-20T23:51:47.570998Z",
     "iopub.status.busy": "2021-04-20T23:51:47.570490Z",
     "iopub.status.idle": "2021-04-20T23:51:47.585150Z",
     "shell.execute_reply": "2021-04-20T23:51:47.585617Z"
    },
    "papermill": {
     "duration": 0.036669,
     "end_time": "2021-04-20T23:51:47.585830",
     "exception": false,
     "start_time": "2021-04-20T23:51:47.549161",
     "status": "completed"
    },
    "tags": []
   },
   "outputs": [
    {
     "name": "stdout",
     "output_type": "stream",
     "text": [
      "/kaggle/input/data-sma/4_detail_table_depots.xls\n",
      "/kaggle/input/data-sma/3_detail_table_vehicles.xls\n",
      "/kaggle/input/data-sma/1_master_table_route_settings.xls\n",
      "/kaggle/input/data-sma/9_table_blocked_parts_of_the_road.xls\n",
      "/kaggle/input/data-sma/8_detail_table_routes_RESULTS.xls\n",
      "/kaggle/input/data-sma/2_detail_table_customers.xls\n",
      "/kaggle/input/data-sma/5_detail_table_constraints_sdvrp.xls\n",
      "/kaggle/input/data-sma/6_detail_table_cust_depots_distances.xls\n",
      "/kaggle/input/data-sma/7_detail_table_cust_cust_distances.xls\n"
     ]
    }
   ],
   "source": [
    "# This Python 3 environment comes with many helpful analytics libraries installed\n",
    "# It is defined by the kaggle/python Docker image: https://github.com/kaggle/docker-python\n",
    "# For example, here's several helpful packages to load\n",
    "\n",
    "import numpy as np # linear algebra\n",
    "import pandas as pd # data processing, CSV file I/O (e.g. pd.read_csv)\n",
    "\n",
    "# Input data files are available in the read-only \"../input/\" directory\n",
    "# For example, running this (by clicking run or pressing Shift+Enter) will list all files under the input directory\n",
    "\n",
    "import os\n",
    "for dirname, _, filenames in os.walk('/kaggle/input'):\n",
    "    for filename in filenames:\n",
    "        print(os.path.join(dirname, filename))\n",
    "\n",
    "# You can write up to 20GB to the current directory (/kaggle/working/) that gets preserved as output when you create a version using \"Save & Run All\" \n",
    "# You can also write temporary files to /kaggle/temp/, but they won't be saved outside of the current session"
   ]
  },
  {
   "cell_type": "code",
   "execution_count": 2,
   "id": "canadian-drilling",
   "metadata": {
    "execution": {
     "iopub.execute_input": "2021-04-20T23:51:47.618147Z",
     "iopub.status.busy": "2021-04-20T23:51:47.617603Z",
     "iopub.status.idle": "2021-04-20T23:51:55.262870Z",
     "shell.execute_reply": "2021-04-20T23:51:55.262431Z"
    },
    "papermill": {
     "duration": 7.662259,
     "end_time": "2021-04-20T23:51:55.262993",
     "exception": false,
     "start_time": "2021-04-20T23:51:47.600734",
     "status": "completed"
    },
    "tags": []
   },
   "outputs": [
    {
     "name": "stdout",
     "output_type": "stream",
     "text": [
      "Collecting xlrd\r\n"
     ]
    },
    {
     "name": "stdout",
     "output_type": "stream",
     "text": [
      "  Downloading xlrd-2.0.1-py2.py3-none-any.whl (96 kB)\r\n",
      "\u001b[?25l\r",
      "\u001b[K     |███▍                            | 10 kB 8.5 MB/s eta 0:00:01\r",
      "\u001b[K     |██████▉                         | 20 kB 2.7 MB/s eta 0:00:01\r",
      "\u001b[K     |██████████▏                     | 30 kB 1.9 MB/s eta 0:00:01\r",
      "\u001b[K     |█████████████▋                  | 40 kB 1.9 MB/s eta 0:00:01"
     ]
    },
    {
     "name": "stdout",
     "output_type": "stream",
     "text": [
      "\r",
      "\u001b[K     |█████████████████               | 51 kB 923 kB/s eta 0:00:01\r",
      "\u001b[K     |████████████████████▍           | 61 kB 1.0 MB/s eta 0:00:01\r",
      "\u001b[K     |███████████████████████▊        | 71 kB 1.1 MB/s eta 0:00:01\r",
      "\u001b[K     |███████████████████████████▏    | 81 kB 1.2 MB/s eta 0:00:01\r",
      "\u001b[K     |██████████████████████████████▌ | 92 kB 1.2 MB/s eta 0:00:01\r",
      "\u001b[K     |████████████████████████████████| 96 kB 1.1 MB/s \r\n"
     ]
    },
    {
     "name": "stdout",
     "output_type": "stream",
     "text": [
      "\u001b[?25hInstalling collected packages: xlrd\r\n"
     ]
    },
    {
     "name": "stdout",
     "output_type": "stream",
     "text": [
      "Successfully installed xlrd-2.0.1\r\n"
     ]
    },
    {
     "name": "stdout",
     "output_type": "stream",
     "text": [
      "Note: you may need to restart the kernel to use updated packages.\n"
     ]
    }
   ],
   "source": [
    "pip install xlrd\n"
   ]
  },
  {
   "cell_type": "code",
   "execution_count": 3,
   "id": "prime-chemical",
   "metadata": {
    "execution": {
     "iopub.execute_input": "2021-04-20T23:51:55.298693Z",
     "iopub.status.busy": "2021-04-20T23:51:55.297955Z",
     "iopub.status.idle": "2021-04-20T23:52:01.699729Z",
     "shell.execute_reply": "2021-04-20T23:52:01.699282Z"
    },
    "papermill": {
     "duration": 6.421001,
     "end_time": "2021-04-20T23:52:01.699852",
     "exception": false,
     "start_time": "2021-04-20T23:51:55.278851",
     "status": "completed"
    },
    "tags": []
   },
   "outputs": [
    {
     "name": "stdout",
     "output_type": "stream",
     "text": [
      "Collecting mesa\r\n"
     ]
    },
    {
     "name": "stdout",
     "output_type": "stream",
     "text": [
      "  Downloading Mesa-0.8.8.1-py3-none-any.whl (667 kB)\r\n",
      "\u001b[?25l\r",
      "\u001b[K     |▌                               | 10 kB 8.3 MB/s eta 0:00:01\r",
      "\u001b[K     |█                               | 20 kB 2.7 MB/s eta 0:00:01"
     ]
    },
    {
     "name": "stdout",
     "output_type": "stream",
     "text": [
      "\r",
      "\u001b[K     |█▌                              | 30 kB 1.9 MB/s eta 0:00:01\r",
      "\u001b[K     |██                              | 40 kB 1.8 MB/s eta 0:00:01\r",
      "\u001b[K     |██▌                             | 51 kB 921 kB/s eta 0:00:01\r",
      "\u001b[K     |███                             | 61 kB 1.0 MB/s eta 0:00:01"
     ]
    },
    {
     "name": "stdout",
     "output_type": "stream",
     "text": [
      "\r",
      "\u001b[K     |███▍                            | 71 kB 1.1 MB/s eta 0:00:01\r",
      "\u001b[K     |████                            | 81 kB 1.2 MB/s eta 0:00:01\r",
      "\u001b[K     |████▍                           | 92 kB 1.2 MB/s eta 0:00:01\r",
      "\u001b[K     |█████                           | 102 kB 1.3 MB/s eta 0:00:01"
     ]
    },
    {
     "name": "stdout",
     "output_type": "stream",
     "text": [
      "\r",
      "\u001b[K     |█████▍                          | 112 kB 1.3 MB/s eta 0:00:01\r",
      "\u001b[K     |█████▉                          | 122 kB 1.3 MB/s eta 0:00:01\r",
      "\u001b[K     |██████▍                         | 133 kB 1.3 MB/s eta 0:00:01\r",
      "\u001b[K     |██████▉                         | 143 kB 1.3 MB/s eta 0:00:01\r",
      "\u001b[K     |███████▍                        | 153 kB 1.3 MB/s eta 0:00:01\r",
      "\u001b[K     |███████▉                        | 163 kB 1.3 MB/s eta 0:00:01\r",
      "\u001b[K     |████████▍                       | 174 kB 1.3 MB/s eta 0:00:01\r",
      "\u001b[K     |████████▉                       | 184 kB 1.3 MB/s eta 0:00:01\r",
      "\u001b[K     |█████████▎                      | 194 kB 1.3 MB/s eta 0:00:01\r",
      "\u001b[K     |█████████▉                      | 204 kB 1.3 MB/s eta 0:00:01\r",
      "\u001b[K     |██████████▎                     | 215 kB 1.3 MB/s eta 0:00:01\r",
      "\u001b[K     |██████████▉                     | 225 kB 1.3 MB/s eta 0:00:01\r",
      "\u001b[K     |███████████▎                    | 235 kB 1.3 MB/s eta 0:00:01"
     ]
    },
    {
     "name": "stdout",
     "output_type": "stream",
     "text": [
      "\r",
      "\u001b[K     |███████████▊                    | 245 kB 1.3 MB/s eta 0:00:01\r",
      "\u001b[K     |████████████▎                   | 256 kB 1.3 MB/s eta 0:00:01\r",
      "\u001b[K     |████████████▊                   | 266 kB 1.3 MB/s eta 0:00:01\r",
      "\u001b[K     |█████████████▎                  | 276 kB 1.3 MB/s eta 0:00:01\r",
      "\u001b[K     |█████████████▊                  | 286 kB 1.3 MB/s eta 0:00:01\r",
      "\u001b[K     |██████████████▎                 | 296 kB 1.3 MB/s eta 0:00:01\r",
      "\u001b[K     |██████████████▊                 | 307 kB 1.3 MB/s eta 0:00:01\r",
      "\u001b[K     |███████████████▏                | 317 kB 1.3 MB/s eta 0:00:01\r",
      "\u001b[K     |███████████████▊                | 327 kB 1.3 MB/s eta 0:00:01\r",
      "\u001b[K     |████████████████▏               | 337 kB 1.3 MB/s eta 0:00:01\r",
      "\u001b[K     |████████████████▊               | 348 kB 1.3 MB/s eta 0:00:01\r",
      "\u001b[K     |█████████████████▏              | 358 kB 1.3 MB/s eta 0:00:01\r",
      "\u001b[K     |█████████████████▋              | 368 kB 1.3 MB/s eta 0:00:01\r",
      "\u001b[K     |██████████████████▏             | 378 kB 1.3 MB/s eta 0:00:01\r",
      "\u001b[K     |██████████████████▋             | 389 kB 1.3 MB/s eta 0:00:01\r",
      "\u001b[K     |███████████████████▏            | 399 kB 1.3 MB/s eta 0:00:01\r",
      "\u001b[K     |███████████████████▋            | 409 kB 1.3 MB/s eta 0:00:01\r",
      "\u001b[K     |████████████████████▏           | 419 kB 1.3 MB/s eta 0:00:01\r",
      "\u001b[K     |████████████████████▋           | 430 kB 1.3 MB/s eta 0:00:01\r",
      "\u001b[K     |█████████████████████           | 440 kB 1.3 MB/s eta 0:00:01\r",
      "\u001b[K     |█████████████████████▋          | 450 kB 1.3 MB/s eta 0:00:01\r",
      "\u001b[K     |██████████████████████          | 460 kB 1.3 MB/s eta 0:00:01\r",
      "\u001b[K     |██████████████████████▋         | 471 kB 1.3 MB/s eta 0:00:01\r",
      "\u001b[K     |███████████████████████         | 481 kB 1.3 MB/s eta 0:00:01\r",
      "\u001b[K     |███████████████████████▌        | 491 kB 1.3 MB/s eta 0:00:01\r",
      "\u001b[K     |████████████████████████        | 501 kB 1.3 MB/s eta 0:00:01"
     ]
    },
    {
     "name": "stdout",
     "output_type": "stream",
     "text": [
      "\r",
      "\u001b[K     |████████████████████████▌       | 512 kB 1.3 MB/s eta 0:00:01\r",
      "\u001b[K     |█████████████████████████       | 522 kB 1.3 MB/s eta 0:00:01\r",
      "\u001b[K     |█████████████████████████▌      | 532 kB 1.3 MB/s eta 0:00:01\r",
      "\u001b[K     |██████████████████████████      | 542 kB 1.3 MB/s eta 0:00:01\r",
      "\u001b[K     |██████████████████████████▌     | 552 kB 1.3 MB/s eta 0:00:01\r",
      "\u001b[K     |███████████████████████████     | 563 kB 1.3 MB/s eta 0:00:01\r",
      "\u001b[K     |███████████████████████████▌    | 573 kB 1.3 MB/s eta 0:00:01\r",
      "\u001b[K     |████████████████████████████    | 583 kB 1.3 MB/s eta 0:00:01\r",
      "\u001b[K     |████████████████████████████▌   | 593 kB 1.3 MB/s eta 0:00:01\r",
      "\u001b[K     |█████████████████████████████   | 604 kB 1.3 MB/s eta 0:00:01\r",
      "\u001b[K     |█████████████████████████████▍  | 614 kB 1.3 MB/s eta 0:00:01\r",
      "\u001b[K     |██████████████████████████████  | 624 kB 1.3 MB/s eta 0:00:01\r",
      "\u001b[K     |██████████████████████████████▍ | 634 kB 1.3 MB/s eta 0:00:01\r",
      "\u001b[K     |███████████████████████████████ | 645 kB 1.3 MB/s eta 0:00:01\r",
      "\u001b[K     |███████████████████████████████▍| 655 kB 1.3 MB/s eta 0:00:01\r",
      "\u001b[K     |███████████████████████████████▉| 665 kB 1.3 MB/s eta 0:00:01"
     ]
    },
    {
     "name": "stdout",
     "output_type": "stream",
     "text": [
      "\r",
      "\u001b[K     |████████████████████████████████| 667 kB 1.3 MB/s \r\n",
      "\u001b[?25hRequirement already satisfied: numpy in /opt/conda/lib/python3.7/site-packages (from mesa) (1.19.5)\r\n",
      "Requirement already satisfied: pandas in /opt/conda/lib/python3.7/site-packages (from mesa) (1.1.5)\r\n",
      "Requirement already satisfied: click in /opt/conda/lib/python3.7/site-packages (from mesa) (7.1.2)\r\n",
      "Requirement already satisfied: cookiecutter in /opt/conda/lib/python3.7/site-packages (from mesa) (1.7.2)\r\n",
      "Requirement already satisfied: tornado in /opt/conda/lib/python3.7/site-packages (from mesa) (5.0.2)\r\n",
      "Requirement already satisfied: networkx in /opt/conda/lib/python3.7/site-packages (from mesa) (2.5)\r\n",
      "Requirement already satisfied: tqdm in /opt/conda/lib/python3.7/site-packages (from mesa) (4.56.2)\r\n",
      "Requirement already satisfied: binaryornot>=0.4.4 in /opt/conda/lib/python3.7/site-packages (from cookiecutter->mesa) (0.4.4)\r\n",
      "Requirement already satisfied: jinja2-time>=0.2.0 in /opt/conda/lib/python3.7/site-packages (from cookiecutter->mesa) (0.2.0)\r\n",
      "Requirement already satisfied: Jinja2<3.0.0 in /opt/conda/lib/python3.7/site-packages (from cookiecutter->mesa) (2.11.3)\r\n",
      "Requirement already satisfied: MarkupSafe<2.0.0 in /opt/conda/lib/python3.7/site-packages (from cookiecutter->mesa) (1.1.1)\r\n",
      "Requirement already satisfied: poyo>=0.5.0 in /opt/conda/lib/python3.7/site-packages (from cookiecutter->mesa) (0.5.0)\r\n",
      "Requirement already satisfied: python-slugify>=4.0.0 in /opt/conda/lib/python3.7/site-packages (from cookiecutter->mesa) (4.0.1)\r\n",
      "Requirement already satisfied: six>=1.10 in /opt/conda/lib/python3.7/site-packages (from cookiecutter->mesa) (1.15.0)\r\n",
      "Requirement already satisfied: requests>=2.23.0 in /opt/conda/lib/python3.7/site-packages (from cookiecutter->mesa) (2.25.1)\r\n",
      "Requirement already satisfied: chardet>=3.0.2 in /opt/conda/lib/python3.7/site-packages (from binaryornot>=0.4.4->cookiecutter->mesa) (3.0.4)\r\n",
      "Requirement already satisfied: arrow in /opt/conda/lib/python3.7/site-packages (from jinja2-time>=0.2.0->cookiecutter->mesa) (0.17.0)\r\n",
      "Requirement already satisfied: text-unidecode>=1.3 in /opt/conda/lib/python3.7/site-packages (from python-slugify>=4.0.0->cookiecutter->mesa) (1.3)\r\n"
     ]
    },
    {
     "name": "stdout",
     "output_type": "stream",
     "text": [
      "Requirement already satisfied: urllib3<1.27,>=1.21.1 in /opt/conda/lib/python3.7/site-packages (from requests>=2.23.0->cookiecutter->mesa) (1.26.3)\r\n",
      "Requirement already satisfied: idna<3,>=2.5 in /opt/conda/lib/python3.7/site-packages (from requests>=2.23.0->cookiecutter->mesa) (2.10)\r\n",
      "Requirement already satisfied: certifi>=2017.4.17 in /opt/conda/lib/python3.7/site-packages (from requests>=2.23.0->cookiecutter->mesa) (2020.12.5)\r\n",
      "Requirement already satisfied: python-dateutil>=2.7.0 in /opt/conda/lib/python3.7/site-packages (from arrow->jinja2-time>=0.2.0->cookiecutter->mesa) (2.8.1)\r\n"
     ]
    },
    {
     "name": "stdout",
     "output_type": "stream",
     "text": [
      "Requirement already satisfied: decorator>=4.3.0 in /opt/conda/lib/python3.7/site-packages (from networkx->mesa) (4.4.2)\r\n",
      "Requirement already satisfied: pytz>=2017.2 in /opt/conda/lib/python3.7/site-packages (from pandas->mesa) (2021.1)\r\n"
     ]
    },
    {
     "name": "stdout",
     "output_type": "stream",
     "text": [
      "Installing collected packages: mesa\r\n"
     ]
    },
    {
     "name": "stdout",
     "output_type": "stream",
     "text": [
      "Successfully installed mesa-0.8.8.1\r\n"
     ]
    },
    {
     "name": "stdout",
     "output_type": "stream",
     "text": [
      "Note: you may need to restart the kernel to use updated packages.\n"
     ]
    }
   ],
   "source": [
    "pip install mesa"
   ]
  },
  {
   "cell_type": "code",
   "execution_count": 4,
   "id": "known-tamil",
   "metadata": {
    "execution": {
     "iopub.execute_input": "2021-04-20T23:52:01.744605Z",
     "iopub.status.busy": "2021-04-20T23:52:01.743838Z",
     "iopub.status.idle": "2021-04-20T23:52:01.752638Z",
     "shell.execute_reply": "2021-04-20T23:52:01.751809Z"
    },
    "papermill": {
     "duration": 0.032922,
     "end_time": "2021-04-20T23:52:01.752751",
     "exception": false,
     "start_time": "2021-04-20T23:52:01.719829",
     "status": "completed"
    },
    "tags": []
   },
   "outputs": [],
   "source": [
    "from mesa import Agent\n",
    "from mesa import Model\n",
    "from mesa.time import BaseScheduler\n",
    "from mesa.datacollection import DataCollector\n",
    "import random as rd\n",
    "import numpy as np\n",
    "import pandas as pd\n",
    "import numpy as np\n",
    "import random as rd\n",
    "import numpy as np\n",
    "\n"
   ]
  },
  {
   "cell_type": "code",
   "execution_count": null,
   "id": "direct-sight",
   "metadata": {
    "papermill": {
     "duration": 0.019042,
     "end_time": "2021-04-20T23:52:01.791062",
     "exception": false,
     "start_time": "2021-04-20T23:52:01.772020",
     "status": "completed"
    },
    "tags": []
   },
   "outputs": [],
   "source": []
  },
  {
   "cell_type": "code",
   "execution_count": null,
   "id": "advisory-honor",
   "metadata": {
    "papermill": {
     "duration": 0.020261,
     "end_time": "2021-04-20T23:52:01.830722",
     "exception": false,
     "start_time": "2021-04-20T23:52:01.810461",
     "status": "completed"
    },
    "tags": []
   },
   "outputs": [],
   "source": [
    "\n"
   ]
  },
  {
   "cell_type": "code",
   "execution_count": 5,
   "id": "human-limitation",
   "metadata": {
    "execution": {
     "iopub.execute_input": "2021-04-20T23:52:01.890655Z",
     "iopub.status.busy": "2021-04-20T23:52:01.874369Z",
     "iopub.status.idle": "2021-04-20T23:52:02.024767Z",
     "shell.execute_reply": "2021-04-20T23:52:02.024296Z"
    },
    "papermill": {
     "duration": 0.174991,
     "end_time": "2021-04-20T23:52:02.024944",
     "exception": false,
     "start_time": "2021-04-20T23:52:01.849953",
     "status": "completed"
    },
    "tags": []
   },
   "outputs": [
    {
     "ename": "SyntaxError",
     "evalue": "invalid syntax (<ipython-input-5-91d90421189f>, line 679)",
     "output_type": "error",
     "traceback": [
      "\u001b[0;36m  File \u001b[0;32m\"<ipython-input-5-91d90421189f>\"\u001b[0;36m, line \u001b[0;32m679\u001b[0m\n\u001b[0;31m    self.population[-len(self.model.pool):] = [track_to_member(trackp) for in self.model.pool]\u001b[0m\n\u001b[0m                                                                            ^\u001b[0m\n\u001b[0;31mSyntaxError\u001b[0m\u001b[0;31m:\u001b[0m invalid syntax\n"
     ]
    }
   ],
   "source": [
    "from mesa import Agent\n",
    "from mesa import Model\n",
    "from mesa.time import BaseScheduler\n",
    "from mesa.datacollection import DataCollector\n",
    "import random as rd\n",
    "import numpy as np\n",
    "import pandas as pd\n",
    "import numpy as np\n",
    "import random as rd\n",
    "import numpy as np\n",
    "\n",
    "\n",
    "cost_depot_customers = pd.read_excel(r\"/kaggle/input/data-sma/6_detail_table_cust_depots_distances.xls\")\n",
    "cost_customers_customers = pd.read_excel(r\"/kaggle/input/data-sma/7_detail_table_cust_cust_distances.xls\")\n",
    "trucks_infos = pd.read_excel(r\"/kaggle/input/data-sma/3_detail_table_vehicles.xls\")\n",
    "depot_infos= pd.read_excel(r\"/kaggle/input/data-sma/4_detail_table_depots.xls\")\n",
    "customers_list = pd.read_excel(r\"/kaggle/input/data-sma/2_detail_table_customers.xls\")\n",
    "road_choice = 2922001\n",
    "\n",
    "###############################################################################\n",
    "#################################   Classes   #################################\n",
    "###############################################################################\n",
    "\n",
    "class Client:\n",
    "\n",
    "    def __init__(self, name, x, y, quantity, start, stop,code):\n",
    "        self.name = name\n",
    "        self.code = code\n",
    "        self.x = x\n",
    "        self.y = y\n",
    "        self.quantity = quantity\n",
    "        self.start = start\n",
    "        self.stop = stop\n",
    "        self.delivered = False\n",
    "\n",
    "class Truck:\n",
    "    \n",
    "    def __init__(self, name, quantity_max, start, stop,route_id):\n",
    "        self.name = name\n",
    "        self.route_id = route_id\n",
    "        self.x = 0\n",
    "        self.y = 0\n",
    "        self.quantity_max = quantity_max\n",
    "        self.start = start\n",
    "        self.stop = stop\n",
    "        self.remaining_quantity=quantity_max\n",
    "        self.P = [0]\n",
    "        self.cost = 0\n",
    "        self.time = 0\n",
    "\n",
    "    def delivery(self, client):\n",
    "        self.x=client.x\n",
    "        self.y=client.y\n",
    "        self.remaining_quantity -= client.quantity\n",
    "        \n",
    "    def calculate_cost(self, data,listOfClients):\n",
    "        self.cost=0\n",
    "        self.time=0\n",
    "        self.remaining_quantity=self.quantity_max\n",
    "        demande = 0\n",
    "        weight_K = 10000\n",
    "        weight_q = 10000\n",
    "        weight_t = 3\n",
    "        weight_d = 13\n",
    "        weight_c = 10     \n",
    "        for m in range(len(self.P)):\n",
    "            demande += listOfClients[m].quantity\n",
    "        self.remaining_quantity-=demande\n",
    "        if(self.remaining_quantity<0):\n",
    "            self.cost+=(self.remaining_quantity*(-1))*weight_q\n",
    "        for i in range (len(self.P)-1):\n",
    "            self.cost += (distanceTab(self.P[i],self.P[i+1],listOfClients)*weight_c)\n",
    "            self.time += data[self.P[i]][self.P[i+1]]\n",
    "            if self.time <= listOfClients[self.P[i+1]].start:\n",
    "                self.cost += ((listOfClients[self.P[i+1]].start - self.time)*weight_t)\n",
    "                self.time = listOfClients[self.P[i+1]].start\n",
    "            if self.time >= listOfClients[self.P[i+1]].stop:\n",
    "                self.cost += ((self.time - listOfClients[self.P[i+1]].stop)*weight_d)\n",
    "        self.cost += weight_K\n",
    "        return (self.cost)\n",
    "        \n",
    "\n",
    "           \n",
    "\n",
    "\n",
    "def distanceTab(C1, C2, listOfClients):\n",
    "        return(np.sqrt((listOfClients[C1].y-listOfClients[C2].y)**2 + (listOfClients[C1].x - listOfClients[C2].x)**2))\n",
    "    \n",
    "\n",
    "\n",
    "def find_client_by_code(code,liste_clients):\n",
    "    find = False\n",
    "    i=0\n",
    "    client = Client(-1,-1,-1,-1,-1,-1,-1)\n",
    "    while i<len(liste_clients) and not find :\n",
    "        if liste_clients[i].code == code :\n",
    "            client = liste_clients[i]\n",
    "            find = True\n",
    "        i +=1\n",
    "    return client\n",
    "\n",
    "\n",
    "def cost_matrix(liste_clients,cost_depot_customers,cost_customers_customers):\n",
    "    n = len(liste_clients)+1\n",
    "    cost_matrix= np.zeros((n,n))\n",
    "    time_matrix= np.zeros((n,n))\n",
    "    for i in range(0,len(cost_depot_customers),2):\n",
    "        client = find_client_by_code(cost_depot_customers['CUSTOMER_CODE'][i],liste_clients)\n",
    "        if client.name == -1 :\n",
    "            pass\n",
    "        else : \n",
    "            cost_matrix[0][client.name+1] = cost_depot_customers['DISTANCE_KM'][i]\n",
    "            cost_matrix[client.name+1][0] = cost_depot_customers['DISTANCE_KM'][i+1]\n",
    "            time_matrix[0][client.name+1] = cost_depot_customers['TIME_DISTANCE_MIN'][i]\n",
    "            time_matrix[client.name+1][0] = cost_depot_customers['TIME_DISTANCE_MIN'][i+1]\n",
    "    for i in range(len(cost_customers_customers)):\n",
    "        client_1=find_client_by_code(cost_customers_customers['CUSTOMER_CODE_FROM'][i],liste_clients)\n",
    "        client_2=find_client_by_code(cost_customers_customers['CUSTOMER_CODE_TO'][i],liste_clients)\n",
    "        if client_1.name == -1 or client_2.name==-1 : \n",
    "            pass\n",
    "        else : \n",
    "            cost_matrix[client_1.name+1][client_2.name+1] = cost_customers_customers['DISTANCE_KM'][i]\n",
    "            time_matrix[client_1.name+1][client_2.name+1] = cost_customers_customers['TIME_DISTANCE_MIN'][i]\n",
    "    return cost_matrix,time_matrix\n",
    "\n",
    "def liste_c(customers_list):\n",
    "    liste_clients = []\n",
    "    for i in range(len(customers_list)):\n",
    "        customer = Client(i,customers_list['CUSTOMER_LATITUDE'][i],customers_list['CUSTOMER_LONGITUDE'][i],\n",
    "                        customers_list['CUSTOMER_TIME_WINDOW_FROM_MIN'][i],customers_list['CUSTOMER_TIME_WINDOW_TO_MIN'][i],customers_list['TOTAL_VOLUME_M3'][i],\n",
    "                        customers_list['CUSTOMER_CODE'][i])\n",
    "        liste_clients.append(customer)\n",
    "    return liste_clients\n",
    "\n",
    "def liste_tr(trucks_infos,depot_infos):\n",
    "    lat = depot_infos['DEPOT_LATITUDE'][0]\n",
    "    long = depot_infos['DEPOT_LONGITUDE'][0]\n",
    "    T = []\n",
    "    for i in range(len(trucks_infos)):\n",
    "        T.append(Truck(i,trucks_infos['VEHICLE_TOTAL_VOLUME_M3'][i],lat,long,trucks_infos['ROUTE_ID'][i]))\n",
    "    return T\n",
    "\n",
    "\n",
    "def truncate_df(df,road_choice):\n",
    "    minimum = df.ROUTE_ID.eq(road_choice).idxmax()\n",
    "    df = df.truncate(before = minimum)\n",
    "    maximum = df.ROUTE_ID.ne(road_choice).idxmax()-1\n",
    "    df = df.truncate(after=maximum)\n",
    "    df.reset_index(drop=True,inplace=True)\n",
    "    return df\n",
    "\n",
    "cost_customers_customers=truncate_df(cost_customers_customers,road_choice)\n",
    "cost_depot_customers=truncate_df(cost_depot_customers,road_choice)\n",
    "trucks_infos=truncate_df(trucks_infos,road_choice)\n",
    "customers_list=truncate_df(customers_list,road_choice)\n",
    "depot_infos = truncate_df(depot_infos,road_choice)\n",
    "\n",
    "depot=Client(-1,depot_infos['DEPOT_LATITUDE'][0],depot_infos['DEPOT_LONGITUDE'][0],0,0,0,-100000)\n",
    "\n",
    "list_clients = liste_c(customers_list)\n",
    "clients= [[list_clients[i].quantity, list_clients[i].start, list_clients[i].stop] for i in range(len(list_clients))]\n",
    "trucks_list = liste_tr(trucks_infos,depot_infos)\n",
    "n_trucks = len(trucks_list)\n",
    "(c_matrix,t_matrix)=cost_matrix(list_clients,cost_depot_customers,cost_customers_customers)\n",
    "\n",
    "\n",
    "###############################################################################\n",
    "######################   Enregistrement des constantes   ######################\n",
    "###############################################################################\n",
    "T = liste_tr(trucks_infos,depot_infos)\n",
    "n_trucks = len(T) #Nombre de camions\n",
    "truck_capacity = [ i.quantity_max for i in T] #Capacité unitaire pouvant être emmenée par chaque camion\n",
    "time_matrix = t_matrix\n",
    "\n",
    "#Paramètres AGs\n",
    "nb_pop = 100 #taille de notre population\n",
    "nb_generations = 200 #nombre de générations étudiées par l'AGs\n",
    "elitism = True #Volonté de ne sélectionner que les meilleurs éléments\n",
    "best_pop = 40 #Taille de la population élite : les N-meilleurs membres de la population\n",
    "mutation_rate = 0.3 #probabilité de mutation lors du passage à la génération suivante\n",
    "\n",
    "weight_K=10_000\n",
    "weight_q=10_000\n",
    "weight_t=3\n",
    "weight_d=13\n",
    "weight_c=10\n",
    "\n",
    "###############################################################################\n",
    "##########################   Fonctions d'évaluation  ##########################\n",
    "###############################################################################\n",
    "\n",
    "\n",
    "\n",
    "def track_evaluation(truck_track):\n",
    "    t3=0\n",
    "    trucks_time = []\n",
    "    for track in truck_track:\n",
    "        t=0\n",
    "        for q in truck_capacity :\n",
    "            \n",
    "            if len(track) >2 :\n",
    "                t3+= weight_K*len(truck_capacity) #Si le camion est utilisé, ajout du coût d'utilisation dans le score du circuit\n",
    "            for i in range(1,len(track)):\n",
    "                \n",
    "                # Evaluation fenêtre\n",
    "                t2= time_matrix[track[i-1]][track[i]]\n",
    "                \n",
    "                t4 = c_matrix[track[i-1]][track[i]]\n",
    "                if t+t2 <= clients[track[i]][1]: #Si arrivé du livreur avant la fin de la fenêtre\n",
    "                    t+=t4 * weight_c\n",
    "                    t3 +=  max(0,clients[track[i]][0]-t) * weight_t\n",
    "                    t+=+max(0,clients[track[i]][0]-t)  #ajout d'un temps d'attente si le livreur arrive avant le début de la fenêtre\n",
    "                else :\n",
    "                    t3+= (t+t2 - clients[track[i]][1])*weight_d #ajout d'une pénalité si une fenêtre n'est pas respectée\n",
    "                    t+=t4*weight_c\n",
    "                  \n",
    "                # Evaluation quantité            \n",
    "                if q >= clients[track[i]][2]:\n",
    "                    q-=clients[track[i]][2]\n",
    "                else : \n",
    "                    t3+=(clients[track[i]][2]-q)*weight_q   #ajout d'une pénalité si une quantité n'est pas respectée\n",
    "                    q=0                \n",
    "        trucks_time.append(t)\n",
    "        t3+=t\n",
    "    return t3 ,trucks_time\n",
    "    \n",
    "                \n",
    "def truck_track_constructor(member):\n",
    "    track=member[0]   \n",
    "\n",
    "\n",
    "    cgt=[0]\n",
    "    truck_track=[]\n",
    "    \n",
    "    for j in range(1,len(track)):\n",
    "        if track[j] <= 0:           \n",
    "            cgt.append(j)\n",
    "            truck_track.append([0] + track[cgt[-2]+1:cgt[-1]] + [0])\n",
    "            \n",
    "    cgt.append(j)\n",
    "    truck_track.append([0] + track[cgt[-2]+1:cgt[-1]+1] + [0])  \n",
    "\n",
    "    return truck_track\n",
    "\n",
    "def population_evaluation(member): \n",
    "    t3,trucks_time=track_evaluation(truck_track_constructor(member))        \n",
    "    member[1]=t3\n",
    "    return member\n",
    "\n",
    "#Nous avons reprogrammé ci-dessous un tri fusion\n",
    "def merge(left,right): \n",
    "    result = []\n",
    "    index_left, index_right = 0, 0\n",
    "    while index_left < len(left) and index_right < len(right):        \n",
    "        if left[index_left][1] <= right[index_right][1]:\n",
    "            result.append(left[index_left])\n",
    "            index_left += 1\n",
    "        else:\n",
    "            result.append(right[index_right])\n",
    "            index_right += 1\n",
    "    if left:\n",
    "        result.extend(left[index_left:])\n",
    "    if right:\n",
    "        result.extend(right[index_right:])\n",
    "    return result\n",
    " \n",
    "def merge_sort(m):\n",
    "    if len(m) <= 1:\n",
    "        return m\n",
    "    middle = len(m) // 2\n",
    "    left = m[:middle]\n",
    "    right = m[middle:]\n",
    "    left = merge_sort(left)\n",
    "    right = merge_sort(right)\n",
    "    return list(merge(left, right))\n",
    "\n",
    "def track_to_member(track):\n",
    "    i=0\n",
    "    member=[[],track_evaluation(track)[0]]\n",
    "    for truck_track in track:\n",
    "        member[0]= member[0]+[i]+truck_track[1:-1]\n",
    "        i-=1\n",
    "    return(member)\n",
    "    \n",
    "###############################################################################\n",
    "##########################   fonctions d'évolution   ##########################\n",
    "###############################################################################\n",
    "\n",
    "rand=rd.random\n",
    "\n",
    "Phenon=[i for i in range(len(clients))] +[-i for i in range(1,n_trucks)]\n",
    "back_to_depot=[-i for i in range(n_trucks)]\n",
    "\n",
    "nv=len(Phenon)\n",
    "\n",
    "def generate():\n",
    "    a=Phenon[1:]\n",
    "    rd.shuffle(a)\n",
    "    return [0]+a\n",
    "\n",
    "#def taille_pop2():\n",
    "#    pop = []\n",
    "#    for i in range(taille_pop):\n",
    "#        circuit2=generate()\n",
    "#        distance=0\n",
    "#        for j in range(1,nv):\n",
    "#            distance+=dist[circuit2[j-1],circuit2[j]]\n",
    "#        pop.append([circuit2,distance])\n",
    "#    return pop\n",
    "        \n",
    "    \n",
    "\n",
    "def crossover(parent1,parent2):\n",
    "    \"\"\"\n",
    "    Utilisation d'un two points crossover\n",
    "    Les points de départ et de fin sont choisis aléatoirement\n",
    "    \"\"\"\n",
    "    \n",
    "    parent1 = parent1[1:]\n",
    "    parent2 = parent2[1:]\n",
    "    nv=len(parent1)\n",
    "    # On récupère une partie des critères du premier parent\n",
    "    start_point=rd.randint(0,nv-1)\n",
    "    end_point=rd.randint(0,nv-1)\n",
    "    \n",
    "    if start_point > end_point :\n",
    "        start_point,end_point=end_point,start_point\n",
    "    \n",
    "    child=[\"False\" for i in range(nv)]\n",
    "    heritage_parent1=parent1[start_point:end_point+1]\n",
    "    child[start_point:end_point+1]=heritage_parent1\n",
    "    \n",
    "    \n",
    "    # On récupère ensuite le maximum de critères possibles du parent2 tout en conservant un enfant sans doublons\n",
    "    m1=[]\n",
    "    for i in range(nv):\n",
    "        if i > end_point or i < start_point: \n",
    "            criteria=parent2[i]\n",
    "            if criteria not in heritage_parent1:\n",
    "                child[i]=criteria\n",
    "            else:\n",
    "                m1.append(i)\n",
    "                \n",
    "                \n",
    "    # On complète par les critères manquants            \n",
    "    m2=[]\n",
    "#    print(enfant)\n",
    "    for i in Phenon[1:]:\n",
    "\n",
    "        \n",
    "        if i not in child:\n",
    "            m2.append(i)\n",
    "\n",
    "    rd.shuffle(m2)\n",
    "#    print(patrimoine_parent1)\n",
    "#    print(parent2)\n",
    "#    print(m2)\n",
    "#    print(m1)\n",
    "#    print(enfant)\n",
    "    for i in range(len(m1)):\n",
    "        child[m1[i]]=m2[i]\n",
    "    \n",
    "    #mutation\n",
    "\n",
    "    \n",
    "    if rd.random() < mutation_rate:\n",
    "        a=rd.randint(0,len(child)-1)\n",
    "        b=rd.randint(0,len(child)-1)   \n",
    "        child[a], child[b] = child[b], child[a]\n",
    "            \n",
    "    return [0]+child \n",
    "\n",
    "def uniform_cross(p1,p2):\n",
    "    \n",
    "    p1 = p1[1:]\n",
    "    p2 = p2[1:]\n",
    "    \n",
    "    child1 = []\n",
    "    child2 = []\n",
    "    \n",
    "    for i in range(len(p1)):\n",
    "        if(p1[i] in child1 and p2[i] in child1):\n",
    "            child2.append(p1[i])\n",
    "            child2.append(p2[i])\n",
    "        elif(p1[i] in child2 and p2[i] in child2):\n",
    "            child1.append(p1[i])\n",
    "            child1.append(p2[i])\n",
    "        elif(p1[i] in child2 or p2[i] in child1):\n",
    "            child1.append(p1[i])\n",
    "            child2.append(p2[i])\n",
    "            \n",
    "        elif(p1[i] in child1 or p2[i] in child2):\n",
    "            child1.append(p2[i])\n",
    "            child2.append(p1[i])\n",
    "            \n",
    "        else:\n",
    "            a = rd.randint(1,2)\n",
    "            if(a == 1):\n",
    "                child1.append(p1[i])\n",
    "                child2.append(p2[i])\n",
    "            else:\n",
    "                child1.append(p2[i])\n",
    "                child2.append(p1[i])\n",
    "    child1=mutation(child1, mutation_rate)\n",
    "    child2=mutation(child2, mutation_rate)\n",
    "    \n",
    "    return([0]+child1, [0] + child2)\n",
    "\n",
    "def mutation(child, mutation_rate):\n",
    "    if(rd.random()-mutation_rate < 0):\n",
    "        point1 = rd.randint(0, len(child)-1)\n",
    "        point2 = rd.randint(0, len(child)-1)\n",
    "        child[point1], child[point2] = child[point2], child[point1]\n",
    "    return(child)\n",
    "        \n",
    "def init_pop(n):\n",
    "    pop=[]\n",
    "    for i in range(n):\n",
    "        track=generate()\n",
    "        pop.append(population_evaluation([track,0]))\n",
    "    pop=merge_sort(pop)\n",
    "    return pop\n",
    "\n",
    "\n",
    "\n",
    "def next_gen(population):\n",
    "  \n",
    "    new_gen=[]\n",
    "    \n",
    "    if elitism == True:\n",
    "        elite=population[:best_pop]\n",
    "    else:\n",
    "        elite=[]\n",
    "        \n",
    "\n",
    "    nb_child=(nb_pop//2)\n",
    "    \n",
    "    couples=[i for i in range(nb_child*2)]\n",
    "\n",
    "    rd.shuffle(couples)\n",
    "\n",
    "\n",
    "    for i in range(nb_child//2):\n",
    "        \n",
    "        # child=crossover(population[couples[i]][0],population[couples[nb_pop//2+i]][0])        \n",
    "        # new_gen.append(population_evaluation([child,0]))\n",
    "        \n",
    "        child1=uniform_cross(population[couples[i]][0],population[couples[nb_pop//2+i]][0])[0]\n",
    "        child2=uniform_cross(population[couples[i]][0],population[couples[nb_pop//2+i]][0])[1]\n",
    "        new_gen.append(population_evaluation([child1,0]))\n",
    "        new_gen.append(population_evaluation([child2,0]))\n",
    "        \n",
    "    new_gen=new_gen+elite\n",
    "    \n",
    "    new_gen= new_gen + init_pop(nb_pop-len(new_gen))\n",
    "    \n",
    "    population=merge_sort(new_gen[:])\n",
    "    \n",
    "    return(population)\n",
    "\n",
    "    \n",
    "################################## Utility functions ##################################\n",
    "\n",
    "def find_client_by_name(name,C):\n",
    "    i = 0\n",
    "    n = len(C)\n",
    "    find = False\n",
    "    client = Client(-1,0,0,0,0,0,-1)\n",
    "    while i < n and find == False : \n",
    "        if C[i].name == name :\n",
    "            client = C[i]\n",
    "            find = True\n",
    "        i +=1\n",
    "    return client\n",
    "\n",
    "\n",
    "\n",
    "\n",
    "\n",
    "\n",
    "\n",
    "\n",
    "def quantity(C):\n",
    "    q = 0\n",
    "    for i in range(len(C)):\n",
    "        q += C[i].quantity\n",
    "    return q\n",
    "\n",
    "def copy(F):\n",
    "    L = []\n",
    "    for x in F:\n",
    "        V = []\n",
    "        for i in range(len(x)):\n",
    "            V.append(x[i])\n",
    "        L.append(V)\n",
    "    return L\n",
    "\n",
    "def closing_tour(itineraire): \n",
    "    L = []\n",
    "    for x in itineraire:\n",
    "        if len(x)>1:\n",
    "            del(x[0])\n",
    "            x.insert(0,0)\n",
    "            if x[-1]!=0:\n",
    "                x.append(0)\n",
    "        else:\n",
    "            L.append(x)\n",
    "    for x in L:\n",
    "        itineraire.remove(x)\n",
    "\n",
    "def convert_solution(solution, trucks_list):\n",
    "    if solution[0][0]==0:\n",
    "        for i in range(len(solution)):\n",
    "            solution[i][0]=trucks_list[i]\n",
    "            del(solution[i][-1])\n",
    "        for i in range(len(solution),len(trucks_list)+1):\n",
    "            solution.append(trucks_list[i])\n",
    "    return solution\n",
    "\n",
    "#################################### RS Algorithm #####################################\n",
    "def random_solution(C, trucks_list):\n",
    "    C2 = [client.name for client in C]\n",
    "    q = quantity(C)\n",
    "    T = trucks_list\n",
    "    t = len(T)\n",
    "    R = []\n",
    "    C_bis = C2.copy()\n",
    "    for i in range(t):\n",
    "        s = rd.sample(C_bis,rd.randint(1,len(C_bis)-(t-i+1)))\n",
    "        R.append([T[i]]+s)\n",
    "        for x in s :\n",
    "            C_bis.remove(x)\n",
    "    rd.shuffle(C_bis)\n",
    "    L  = [T[t-1]]+C_bis\n",
    "    R.append(L)\n",
    "    for i in range(t,len(T)):\n",
    "        R.append([T[i]])\n",
    "    return R\n",
    "\n",
    "def neighbouring_solution(R):\n",
    "     n = len(R)\n",
    "     S = copy(R)\n",
    "     i = rd.randint(0,n-1)\n",
    "     j = rd.randint(0,n-1)\n",
    "     l = rd.randint(1,len(S[i]))\n",
    "     k = rd.randint(1,len(S[j]))\n",
    "     if l == len(S[i]) and k == len(S[j]):\n",
    "         return S\n",
    "     elif k == len(S[j]) :\n",
    "         client = S[i][l]\n",
    "         S[j].append(client)\n",
    "         S[i].remove(client)\n",
    "     elif l == len(S[i]) : \n",
    "        client = S[j][k]\n",
    "        S[i].append(client)\n",
    "        S[j].remove(client)\n",
    "     else:         \n",
    "         client1 = S[i][l]\n",
    "         client2 = S[j][k]\n",
    "         S[i][l] = client2\n",
    "         S[j][k] = client1\n",
    "     return S\n",
    "\n",
    "def cost_function(R,M,M_time,C, weight_K, weight_q, weight_t, weight_d, weight_c):\n",
    "    T = 0\n",
    "    n = len(R)\n",
    "    K = 0\n",
    "    for x in R :\n",
    "        if len(x)> 1 :\n",
    "            K+=1\n",
    "    t = 0\n",
    "    d = 0\n",
    "    c = 0\n",
    "    q = 0\n",
    "    dispo = [R[i][0].start for i in range(n) ]\n",
    "    for i in range(n):\n",
    "        if len(R[i])> 1 :\n",
    "            truck = R[i][0]\n",
    "            truck.remaining_quantity = truck.quantity_max\n",
    "            client = find_client_by_name(R[i][1],C)\n",
    "            dispo[i] = dispo[i] + M_time[client.name][0]\n",
    "            c+= M[client.name][0]\n",
    "            d += max(0,dispo[i] - client.stop)\n",
    "            t -= min(0, dispo[i] - client.start)\n",
    "            truck.delivery(client)\n",
    "            for j in range(2,len(R[i])):\n",
    "                client_prec = find_client_by_name(R[i][j-1],C)\n",
    "                client = find_client_by_name(R[i][j],C)\n",
    "                c+= M[client_prec.name][client.name]\n",
    "                dispo[i] = dispo[i] + M_time[client_prec.name][client.name]\n",
    "                d += max(0,dispo[i] - client.stop)\n",
    "                t -= min(0, dispo[i] - client.start)\n",
    "                truck.delivery(client)\n",
    "            c += M[0][client.name]\n",
    "            q -= min(0,truck.remaining_quantity)\n",
    "    T = weight_K * K + weight_q * q + weight_t * t + weight_d * d + weight_c * c\n",
    "    return T\n",
    "\n",
    "def algo_RS(C,M,M_time, trucks_list, start_solution, n=10_000, weight_K=10_000, weight_q=10_000, weight_t=3, weight_d=13, weight_c=10): \n",
    "    R = convert_solution(start_solution, trucks_list)\n",
    "    T = cost_function(R,M,M_time,C, weight_K, weight_q, weight_t, weight_d, weight_c)\n",
    "    i = 0\n",
    "    while  i < n :\n",
    "        S = neighbouring_solution(R)\n",
    "        T_bis = cost_function(S,M,M_time,C, weight_K, weight_q, weight_t, weight_d, weight_c)\n",
    "        p = (T_bis - T)*10000\n",
    "        random = rd.random()\n",
    "        if p<0 or random < np.exp(-p/T):\n",
    "            R = copy(S)\n",
    "            T = T_bis\n",
    "        i+= 1\n",
    "    return (R,T_bis)\n",
    "\n",
    "###################################### Indicators #######################################\n",
    "def delay_indicator(R,C,M_time):\n",
    "    dispo = [0]* len(R)\n",
    "    delay_by_truck = [0]* len(R)\n",
    "    clients_name = []\n",
    "    cumulative_delay = 0\n",
    "    for x in R:\n",
    "        if len(x)>1:\n",
    "            c= find_client_by_name(x[1],C)\n",
    "            dispo[x[0].name] += M_time[c.name][0]\n",
    "            if dispo[x[0].name]-c.stop > 0 :\n",
    "                delay_by_truck[x[0].name] += dispo[x[0].name]-c.stop\n",
    "                clients_name.append(c.name)\n",
    "                cumulative_delay += dispo[x[0].name]-c.stop\n",
    "            for i in range(2,len(x)) :\n",
    "                c= find_client_by_name(x[i],C)\n",
    "                dispo[x[0].name] += M_time[c.name][x[i-1]]\n",
    "                if dispo[x[0].name]-c.stop > 0 :\n",
    "                    clients_name.append(c.name)\n",
    "                    delay_by_truck[x[0].name] += dispo[x[0].name]-c.stop\n",
    "                    cumulative_delay +=dispo[x[0].name]-c.stop\n",
    "    return delay_by_truck, clients_name, cumulative_delay\n",
    "\n",
    "\n",
    "def advance_indicator(R,C,M_time):\n",
    "    dispo = [0]* len(R)\n",
    "    advance_by_truck = [0] * len(R)\n",
    "    cumulative_advance = 0\n",
    "    for x in R:\n",
    "        if len(x)>1:\n",
    "            c= find_client_by_name(x[1],C)\n",
    "            dispo[x[0].name] += M_time[c.name][0]\n",
    "            if c.start - dispo[x[0].name] > 0 :\n",
    "                advance_by_truck[x[0].name] += c.start - dispo[x[0].name]\n",
    "                cumulative_advance += c.start - dispo[x[0].name]\n",
    "            for i in range(2,len(x)) :\n",
    "                c= find_client_by_name(x[i],C)\n",
    "                dispo[x[0].name] += M_time[c.name][x[i-1]]\n",
    "                if dispo[x[0].name]-c.stop > 0 :\n",
    "                    advance_by_truck[x[0].name] +=c.start - dispo[x[0].name]\n",
    "                    cumulative_advance +=c.start - dispo[x[0].name]\n",
    "    return advance_by_truck, cumulative_advance\n",
    "\n",
    "###############################################################################\n",
    "###################################   SMA   ###################################\n",
    "###############################################################################\n",
    "\n",
    "class gen_agent(Agent):\n",
    "    \n",
    "    def __init__(self,unique_id,model, nb_pop, nb_generations, n_truck, truck_capacity, list_clients):\n",
    "        super().__init__(unique_id,model)\n",
    "        self.nb_pop = nb_pop\n",
    "        self.nb_generations =  nb_generations\n",
    "        self.n_trucks = n_trucks\n",
    "        self.truck_capacity = truck_capacity\n",
    "        self.list_clients = list_clients\n",
    "        self.time_matrix = t_matrix     \n",
    "        self.best_solution = [] # Meilleure solution à retourner en fin d'éxécution        \n",
    "        self.population = init_pop(nb_pop)\n",
    "        self.solution = truck_track_constructor(self.population[0])\n",
    "        \n",
    "        \n",
    "    \n",
    "    def step(self):\n",
    "        if len(self.model.pool) > 0 :\n",
    "            self.population[-len(self.model.pool):] = [track_to_member(trackp) for in self.model.pool]\n",
    "        for i in range(2,nb_generations+1):\n",
    "            self.population = next_gen(self.population)\n",
    "        self.solution = truck_track_constructor(self.population[0])\n",
    "        self.population = init_pop(nb_pop)\n",
    "      \n",
    "\n",
    "    \n",
    "class tab_agent(Agent):\n",
    "    class Depot:\n",
    "        def __init__(self, num_truck,trucks_list):\n",
    "            self.x = 0\n",
    "            self.y = 0\n",
    "            self.num_truck = num_truck\n",
    "            self.T = trucks_list\n",
    "            \n",
    "\n",
    "    def __init__(self, unique_id, model):\n",
    "        super().__init__(unique_id,model)\n",
    "        self.solution = [] # Meilleure solution à retourner en fin d'éxécution\n",
    "        \n",
    "\n",
    "\n",
    "    def solution_initiale (self,num_truck,listOfClients,data):\n",
    "        for a in self.model.schedule.agents:\n",
    "            if isinstance(a,pool_agent):\n",
    "                if len(a.pool) ==a.nb_solutions:\n",
    "                    i = rd.randint(0, a.nb_solutions-1)\n",
    "                    return a.pool[i]\n",
    "        S=[]\n",
    "        depot = self.Depot(num_truck,self.model.trucks_list)\n",
    "        clients = [i for i in range (1,len(listOfClients))]\n",
    "        while len (clients) != 0:\n",
    "            for k in range (len (depot.T)):\n",
    "                if len (clients) != 0:\n",
    "                    j = rd.randint (0,len(clients)-1)\n",
    "                    depot.T[k].P.append(clients[j])\n",
    "                    clients.remove(clients[j])\n",
    "\n",
    "        for k in range (len(depot.T)):\n",
    "            depot.T[k].P.append(0)\n",
    "        for i in range (num_truck):\n",
    "            S.append(depot.T[i].P)\n",
    "        # print(self.total_cost(depot,data,listOfClients),S)\n",
    "        return (self.total_cost(depot,data,listOfClients),S)\n",
    "    \n",
    "                    \n",
    "    def total_cost (self,depot, data,listOfClients):\n",
    "        total_cost = 0\n",
    "        for i in range (depot.num_truck):\n",
    "            (depot.T[i]).calculate_cost(data,listOfClients)\n",
    "            total_cost += depot.T[i].cost\n",
    "        return total_cost\n",
    "\n",
    "    def simple_permut (self,P, old, new):\n",
    "        temp = P[old]\n",
    "        P.remove(P[old])\n",
    "        P.insert(new,temp)\n",
    "        return P\n",
    "\n",
    "    def voisinage_simple (self,parcours, truck, data,listOfClients):\n",
    "        longueurVoisinage = 0\n",
    "        longueurMax = 300\n",
    "        copie_parcours=parcours+[]\n",
    "        vs=[parcours]\n",
    "        truck.P = parcours\n",
    "        cost=[truck.calculate_cost(data,listOfClients)]\n",
    "\n",
    "        for i in range (1,len(copie_parcours)-1):\n",
    "            for j in range (1,len(copie_parcours)-1):\n",
    "                if i < j and longueurVoisinage < longueurMax:\n",
    "                    copie_parcours=self.simple_permut(copie_parcours,i,j)\n",
    "                    vs.append(copie_parcours)\n",
    "                    #print(\"simple\")\n",
    "                    longueurVoisinage+=1\n",
    "                    truck.P = copie_parcours\n",
    "                    cost.append(truck.calculate_cost(data,listOfClients))\n",
    "                    copie_parcours=parcours+[]\n",
    "        mini=cost[0]\n",
    "        index_opti=0\n",
    "        #print(cost)\n",
    "        for k in range (1,len(cost)):\n",
    "            #print(cost[k])\n",
    "            if cost[k]<mini:\n",
    "                mini=cost[k]\n",
    "                index_opti=k\n",
    "        return vs[index_opti]\n",
    "\n",
    "    \n",
    "    def voisinage_complexe (self,ens_parcours, num_truck, data,tabou,listOfClients):\n",
    "        longueurVoisinage = 0\n",
    "        longueurMax = 300\n",
    "        copie_ens_parcours=ens_parcours+[]\n",
    "        vc=[]\n",
    "        list_tot_cost=[]\n",
    "        for i in range (len(ens_parcours)):\n",
    "            if longueurVoisinage< longueurMax:\n",
    "                for j in range (len(ens_parcours)):\n",
    "                    if i != j:\n",
    "                        for k in range (1,len(copie_ens_parcours[i])-1):\n",
    "                            for l in range (1,len(copie_ens_parcours[j])-1):\n",
    "                                (a,b) =self.transfert(copie_ens_parcours[i],copie_ens_parcours[j],k,l)\n",
    "                                ens_parcours_to_add=[]\n",
    "                                depot0 = self.Depot(num_truck,self.model.trucks_list)\n",
    "                                for w in range (len(copie_ens_parcours)):\n",
    "                                    if w == i :\n",
    "                                        ens_parcours_to_add.append(a)\n",
    "                                        depot0.T[w].P=a\n",
    "                                    elif w == j :\n",
    "                                        ens_parcours_to_add.append(b)\n",
    "                                        depot0.T[w].P=b\n",
    "                                    else:\n",
    "                                        ens_parcours_to_add.append(copie_ens_parcours[w])\n",
    "                                        depot0.T[w].P=copie_ens_parcours[w]\n",
    "                                vc.append(ens_parcours_to_add)\n",
    "                                list_tot_cost.append(self.total_cost(depot0,data,listOfClients))\n",
    "                                longueurVoisinage+=1\n",
    "                                #print(\"complexe\")\n",
    "        #print(list_tot_cost)\n",
    "        return (list_tot_cost, vc)                                                  \n",
    "                    \n",
    "            \n",
    "    def best_voisinage (self,num_truck, data,sol_actuelle,tabou,best_saved_cost,listOfClients):\n",
    "        all_ens_vs=[]\n",
    "        all_cost=[]\n",
    "        for i in range (len(sol_actuelle)):# nombre de camions\n",
    "            ens_vs=[]\n",
    "            cost=0\n",
    "            for j in range (len(sol_actuelle)):\n",
    "                if i==j:\n",
    "                    truck = Truck(num_truck+1, self.model.trucks_list[j].quantity_max,self.model.trucks_list[j].start,self.model.trucks_list[j].stop,self.model.trucks_list[j].route_id)\n",
    "                    truck.P = self.voisinage_simple(sol_actuelle[i], truck, data,listOfClients)\n",
    "                    #truck.cost=0\n",
    "                    ens_vs.append(truck.P)\n",
    "                    cost+= truck.calculate_cost(data,listOfClients)\n",
    "                else:\n",
    "                    truck = Truck(num_truck+1, self.model.trucks_list[j].quantity_max,self.model.trucks_list[j].start,self.model.trucks_list[j].stop,self.model.trucks_list[j].route_id)\n",
    "                    truck.P = sol_actuelle[j]\n",
    "                    cost+= truck.calculate_cost(data,listOfClients)\n",
    "                    ens_vs.append(sol_actuelle[j])\n",
    "            #print(cost)\n",
    "            all_ens_vs.append(ens_vs)\n",
    "            all_cost.append(cost)\n",
    "\n",
    "        (cost_vc,vc)=self.voisinage_complexe(sol_actuelle,num_truck,data,tabou,listOfClients)\n",
    "        all_ens_vs = all_ens_vs+vc\n",
    "        all_cost = all_cost+cost_vc\n",
    "        #print(all_cost)\n",
    "        (all_ens_vs,all_cost) = self.sol_filter(data,sol_actuelle,tabou,all_ens_vs,all_cost,best_saved_cost)\n",
    "        if(len(all_ens_vs)>0):\n",
    "            min_cost=all_cost[0]\n",
    "            index_best_cost=0\n",
    "            for i in range (len(all_cost)):\n",
    "                if (all_cost[i] < min_cost):\n",
    "                    min_cost = all_cost[i]\n",
    "                    index_best_cost = i\n",
    "            return (all_cost[index_best_cost],all_ens_vs[index_best_cost])\n",
    "        else:\n",
    "            return (0,[])\n",
    "    \n",
    "    def sol_filter(self,data,sol_actuelle,tabou,all_ens_vs,all_cost,best_saved_cost):\n",
    "        new_sol =[]\n",
    "        new_sol_cost=[]\n",
    "        for i in range (len(all_ens_vs)):\n",
    "            if((sol_actuelle,all_ens_vs[i])not in tabou or all_cost[i]<best_saved_cost):\n",
    "                new_sol.append(all_ens_vs[i])\n",
    "                new_sol_cost.append(all_cost[i])\n",
    "        return (new_sol,new_sol_cost)\n",
    "\n",
    "    def transfert (self,P1, P2, old_pos, new_pos):\n",
    "        copy_P1=P1+[]\n",
    "        copy_P2=P2+[]\n",
    "        temp = copy_P1[old_pos]\n",
    "        copy_P1.remove(copy_P1[old_pos])\n",
    "        copy_P2.insert(new_pos,temp)\n",
    "        return (copy_P1,copy_P2)  \n",
    "\n",
    "    def algo_tabou (self,nb_iter, max_tabou_size,number_trucks,listOfClients):\n",
    "        curr_cost =0\n",
    "        curr_sol=[]\n",
    "        tabou =[]\n",
    "        data = self.model.time_matrix\n",
    "        (curr_cost,curr_sol) = self.solution_initiale(number_trucks,listOfClients,data)\n",
    "        best_sol=curr_sol\n",
    "        best_cost=curr_cost\n",
    "        for i in range(nb_iter):\n",
    "            (curr_cost,best_curr_neigh) = self.best_voisinage(number_trucks,data,curr_sol,tabou,best_cost,listOfClients)\n",
    "            # print(curr_cost)\n",
    "            if(curr_cost==0):\n",
    "                break\n",
    "            if(len(tabou)>=max_tabou_size):\n",
    "                tabou.pop(0)\n",
    "            tabou.append((best_curr_neigh,curr_sol))\n",
    "            curr_sol=best_curr_neigh\n",
    "            if(curr_cost<best_cost):\n",
    "                best_cost=curr_cost\n",
    "                best_sol=curr_sol\n",
    "        # print(best_sol,best_cost)\n",
    "        return best_sol,best_cost\n",
    "    \n",
    "    def step(self):\n",
    "        sol =(self.algo_tabou (10, 20,len(self.model.trucks_list),self.model.list_clients))\n",
    "        self.solution = sol[0]\n",
    "        \n",
    "    \n",
    "class rs_agent(Agent):\n",
    "\n",
    "    def __init__(self, unique_id, model, trucks_list, list_clients):\n",
    "        super().__init__(unique_id,model)\n",
    "        self.trucks_list = trucks_list\n",
    "        self.list_clients = list_clients\n",
    "        self.time_matrix = model.time_matrix \n",
    "        self.solution = [] # Meilleure solution à retourner en fin d'éxécution\n",
    "\n",
    "    def step(self):\n",
    "        #prendre un solution aléatoirement dans le pool\n",
    "        for a in self.model.schedule.agents:\n",
    "            if isinstance(a,pool_agent):\n",
    "                if len(a.pool) ==a.nb_solutions:\n",
    "                    i = rd.randint(0, a.nb_solutions-1)\n",
    "                    sol, cost = algo_RS(self.model.list_clients,self.model.cost_matrix, self.model.time_matrix, self.trucks_list, a.pool[i])\n",
    "                    closing_tour(sol)\n",
    "                    self.solution = [sol, cost]\n",
    "                else:\n",
    "                    sol, cost = algo_RS(self.model.list_clients,self.model.cost_matrix, self.model.time_matrix, self.trucks_list, random_solution(self.model.list_clients, self.trucks_list))\n",
    "                    closing_tour(sol)\n",
    "                    self.solution = sol\n",
    "        \n",
    "        \n",
    "class pool_agent(Agent):\n",
    "    def __init__(self, unique_id, model, nb_solutions,pool_radius):\n",
    "        super().__init__(unique_id,model)\n",
    "        self.nb_solutions = nb_solutions\n",
    "        self.pool = []\n",
    "        self.pool_id = []\n",
    "        self.pr = pool_radius\n",
    "        \n",
    "    def distance(self,solution1,solution2):\n",
    "        s1 = []\n",
    "        s2=[]\n",
    "        r = 0\n",
    "        for x in solution1:\n",
    "            for i in range(1,len(x)):\n",
    "                s1.append((x[i-1],x[i]))\n",
    "        for x in solution2:\n",
    "            for i in range(1,len(x)):\n",
    "                s2.append((x[i-1],x[i]))\n",
    "        for x in s1 :\n",
    "            if not x in s2:\n",
    "                r += 1\n",
    "        return 1-r/self.pr if r<self.pr else 0\n",
    "    \n",
    "    \n",
    "    def eval_function(self):\n",
    "        pool = self.pool\n",
    "        g = 0\n",
    "        for i in range(len(pool)-1) :\n",
    "            for y in pool[i+1:]:\n",
    "                g+= self.distance(y,pool[i])\n",
    "      \n",
    "                \n",
    "    def solution(self,model):\n",
    "\n",
    "        for agent in model.schedule.agents:\n",
    "            if isinstance(agent,tab_agent) or isinstance(agent,rs_agent) or isinstance(agent,gen_agent):\n",
    "                solution = agent.solution\n",
    "                res = -1\n",
    "\n",
    "                if len(self.pool)< self.nb_solutions :\n",
    "                    phi = 0\n",
    "                    for x in self.pool:\n",
    "                        phi += self.distance(x,solution)\n",
    "                    if phi == 0:                      \n",
    "                        self.pool.append(solution)\n",
    "                        self.pool_id.append(agent.unique_id)\n",
    "#                         break\n",
    "                else :\n",
    "                    pool = self.pool\n",
    "                    g = self.eval_function()\n",
    "                    for i in range(len(pool)):\n",
    "                        pool_test = pool.copy()\n",
    "                        old_sol = pool_test[i]\n",
    "                        pool_test[i] = solution\n",
    "                        g_bis = self.eval_function(pool_test)\n",
    "                        if g_bis < g or track_evaluation(old_sol) > track_evaluation(solution):\n",
    "\n",
    "                            g = g_bis\n",
    "                            res = i\n",
    "                            \n",
    "                    if res != -1 :\n",
    "                        self.pool_id[i] = agent.unique_id\n",
    "                        self.pool[i]=solution\n",
    "        self.model.pool = self.pool\n",
    "        self.model.pool_id = self.pool_id\n",
    "        \n",
    "                        \n",
    "    def step(self):\n",
    "        self.solution(model)\n",
    "        print(self.pool)\n",
    "        print('')\n",
    "        score =  [ [ track_evaluation(self.model.pool[i])[0] , self.model.pool_id[i]] for i in range(len(self.model.pool))]\n",
    "        score = sorted(score)\n",
    "        print(score)\n",
    "        print('')\n",
    "        print('////////////////////////////////////////////////////////////////////////////////')\n",
    "        print('')\n",
    "      \n",
    "\n",
    "\n",
    "\n",
    "#la classe SMA\n",
    "class SMA_collab(Model):\n",
    "    \"\"\"A model for infection spread.\"\"\"\n",
    "\n",
    "    def __init__(self, nb_pop, nb_generations, trucks_list, list_clients,cost_matrix, time_matrix, n_pool,radius_pool):\n",
    "        self.nb_pop = nb_pop\n",
    "        self.nb_generations = nb_generations\n",
    "        self.trucks_list = trucks_list\n",
    "        self.list_clients = list_clients\n",
    "        self.clients=[[list_clients[i].quantity, list_clients[i].start, list_clients[i].stop] for i in range(len(list_clients))]\n",
    "        self.cost_matrix=cost_matrix\n",
    "        self.time_matrix = time_matrix\n",
    "        self.n_pool = n_pool\n",
    "        self.radius_pool = radius_pool\n",
    "        self.pool=[]\n",
    "        self.pool_id = []\n",
    "        #self.grid = MultiGrid(width, height, True)\n",
    "            \n",
    "        self.datacollector = DataCollector(          \n",
    "            agent_reporters={\"State\": \"state\"})\n",
    "\n",
    "        \n",
    "        #l'ordonnanceur du modele (instance de RandomActivation)\n",
    "        #tester SimultaneousActivation (qui permet d'activer tous les agents en mêê temps)\n",
    "        self.schedule = BaseScheduler(self)\n",
    "\n",
    "        e = gen_agent(1,self,self.nb_pop, self.nb_generations, n_trucks, truck_capacity,self.list_clients)\n",
    "        self.schedule.add(e)\n",
    "        \n",
    "        b = tab_agent(2,self)\n",
    "        self.schedule.add(b)\n",
    "        \n",
    "        c = rs_agent(3, self, trucks_list, self.list_clients)\n",
    "        self.schedule.add(c)\n",
    "        \n",
    "        # Gestion du pool\n",
    "        d = pool_agent(4,self,self.n_pool,self.radius_pool)\n",
    "        self.schedule.add(d)\n",
    "        \n",
    "        \n",
    "        # Gestion des courbes\n",
    "        # e2 = graphic_agent(6,self,b.solution, self.list_clients)\n",
    "        # e3 = graphic_agent(7,self,c.solution, self.list_clients)\n",
    "        #e = graphic_agent()\n",
    "       # self.schedule.add(e1)\n",
    "        # self.schedule.add(e2)\n",
    "        # self.schedule.add(e3)\n",
    "        \n",
    "    def step(self):\n",
    "        #passage de l'instant t à l'instant (t+1)\n",
    "        self.schedule.step()\n",
    "        \n",
    "\n"
   ]
  },
  {
   "cell_type": "code",
   "execution_count": 6,
   "id": "fiscal-visit",
   "metadata": {
    "execution": {
     "iopub.execute_input": "2021-04-20T23:52:02.069045Z",
     "iopub.status.busy": "2021-04-20T23:52:02.068422Z",
     "iopub.status.idle": "2021-04-20T23:52:02.114812Z",
     "shell.execute_reply": "2021-04-20T23:52:02.114401Z"
    },
    "papermill": {
     "duration": 0.07003,
     "end_time": "2021-04-20T23:52:02.114932",
     "exception": false,
     "start_time": "2021-04-20T23:52:02.044902",
     "status": "completed"
    },
    "tags": []
   },
   "outputs": [
    {
     "ename": "NameError",
     "evalue": "name 'SMA_collab' is not defined",
     "output_type": "error",
     "traceback": [
      "\u001b[0;31m---------------------------------------------------------------------------\u001b[0m",
      "\u001b[0;31mNameError\u001b[0m                                 Traceback (most recent call last)",
      "\u001b[0;32m<ipython-input-6-d7d699ddd1d3>\u001b[0m in \u001b[0;36m<module>\u001b[0;34m\u001b[0m\n\u001b[1;32m      5\u001b[0m \u001b[0mradius_pool\u001b[0m \u001b[0;34m=\u001b[0m \u001b[0;36m10\u001b[0m\u001b[0;34m\u001b[0m\u001b[0;34m\u001b[0m\u001b[0m\n\u001b[1;32m      6\u001b[0m \u001b[0;34m\u001b[0m\u001b[0m\n\u001b[0;32m----> 7\u001b[0;31m \u001b[0mmodel\u001b[0m \u001b[0;34m=\u001b[0m \u001b[0mSMA_collab\u001b[0m\u001b[0;34m(\u001b[0m\u001b[0mnb_pop\u001b[0m\u001b[0;34m,\u001b[0m \u001b[0mnb_generations\u001b[0m\u001b[0;34m,\u001b[0m \u001b[0mtrucks_list\u001b[0m\u001b[0;34m,\u001b[0m \u001b[0mlist_clients\u001b[0m\u001b[0;34m,\u001b[0m\u001b[0mc_matrix\u001b[0m\u001b[0;34m,\u001b[0m \u001b[0mt_matrix\u001b[0m\u001b[0;34m,\u001b[0m \u001b[0mn_pool\u001b[0m\u001b[0;34m,\u001b[0m\u001b[0mradius_pool\u001b[0m\u001b[0;34m)\u001b[0m\u001b[0;34m\u001b[0m\u001b[0;34m\u001b[0m\u001b[0m\n\u001b[0m\u001b[1;32m      8\u001b[0m \u001b[0;34m\u001b[0m\u001b[0m\n\u001b[1;32m      9\u001b[0m \u001b[0;32mfor\u001b[0m \u001b[0mi\u001b[0m \u001b[0;32min\u001b[0m \u001b[0mrange\u001b[0m\u001b[0;34m(\u001b[0m\u001b[0msteps\u001b[0m\u001b[0;34m)\u001b[0m\u001b[0;34m:\u001b[0m\u001b[0;34m\u001b[0m\u001b[0;34m\u001b[0m\u001b[0m\n",
      "\u001b[0;31mNameError\u001b[0m: name 'SMA_collab' is not defined"
     ]
    }
   ],
   "source": [
    "steps = 10\n",
    "\n",
    "\n",
    "n_pool = 5\n",
    "radius_pool = 10\n",
    "\n",
    "model = SMA_collab(nb_pop, nb_generations, trucks_list, list_clients,c_matrix, t_matrix, n_pool,radius_pool)\n",
    "\n",
    "for i in range(steps):\n",
    "    model.step()\n",
    "\n"
   ]
  },
  {
   "cell_type": "code",
   "execution_count": 7,
   "id": "fantastic-direction",
   "metadata": {
    "execution": {
     "iopub.execute_input": "2021-04-20T23:52:02.166142Z",
     "iopub.status.busy": "2021-04-20T23:52:02.165337Z",
     "iopub.status.idle": "2021-04-20T23:52:02.169385Z",
     "shell.execute_reply": "2021-04-20T23:52:02.168856Z"
    },
    "papermill": {
     "duration": 0.03447,
     "end_time": "2021-04-20T23:52:02.169492",
     "exception": false,
     "start_time": "2021-04-20T23:52:02.135022",
     "status": "completed"
    },
    "tags": []
   },
   "outputs": [
    {
     "ename": "NameError",
     "evalue": "name 'model' is not defined",
     "output_type": "error",
     "traceback": [
      "\u001b[0;31m---------------------------------------------------------------------------\u001b[0m",
      "\u001b[0;31mNameError\u001b[0m                                 Traceback (most recent call last)",
      "\u001b[0;32m<ipython-input-7-8be65a632a0a>\u001b[0m in \u001b[0;36m<module>\u001b[0;34m\u001b[0m\n\u001b[0;32m----> 1\u001b[0;31m \u001b[0mscore\u001b[0m \u001b[0;34m=\u001b[0m  \u001b[0;34m[\u001b[0m \u001b[0;34m[\u001b[0m \u001b[0mtrack_evaluation\u001b[0m\u001b[0;34m(\u001b[0m\u001b[0mmodel\u001b[0m\u001b[0;34m.\u001b[0m\u001b[0mpool\u001b[0m\u001b[0;34m[\u001b[0m\u001b[0mi\u001b[0m\u001b[0;34m]\u001b[0m\u001b[0;34m)\u001b[0m\u001b[0;34m[\u001b[0m\u001b[0;36m0\u001b[0m\u001b[0;34m]\u001b[0m \u001b[0;34m,\u001b[0m \u001b[0mmodel\u001b[0m\u001b[0;34m.\u001b[0m\u001b[0mpool_id\u001b[0m\u001b[0;34m[\u001b[0m\u001b[0mi\u001b[0m\u001b[0;34m]\u001b[0m\u001b[0;34m]\u001b[0m \u001b[0;32mfor\u001b[0m \u001b[0mi\u001b[0m \u001b[0;32min\u001b[0m \u001b[0mrange\u001b[0m\u001b[0;34m(\u001b[0m\u001b[0mlen\u001b[0m\u001b[0;34m(\u001b[0m\u001b[0mmodel\u001b[0m\u001b[0;34m.\u001b[0m\u001b[0mpool\u001b[0m\u001b[0;34m)\u001b[0m\u001b[0;34m)\u001b[0m\u001b[0;34m]\u001b[0m\u001b[0;34m\u001b[0m\u001b[0;34m\u001b[0m\u001b[0m\n\u001b[0m\u001b[1;32m      2\u001b[0m \u001b[0mscore\u001b[0m \u001b[0;34m=\u001b[0m \u001b[0msorted\u001b[0m\u001b[0;34m(\u001b[0m\u001b[0mscore\u001b[0m\u001b[0;34m)\u001b[0m\u001b[0;34m\u001b[0m\u001b[0;34m\u001b[0m\u001b[0m\n\u001b[1;32m      3\u001b[0m \u001b[0mprint\u001b[0m\u001b[0;34m(\u001b[0m\u001b[0mscore\u001b[0m\u001b[0;34m)\u001b[0m\u001b[0;34m\u001b[0m\u001b[0;34m\u001b[0m\u001b[0m\n",
      "\u001b[0;31mNameError\u001b[0m: name 'model' is not defined"
     ]
    }
   ],
   "source": [
    "score =  [ [ track_evaluation(model.pool[i])[0] , model.pool_id[i]] for i in range(len(model.pool))]\n",
    "score = sorted(score)\n",
    "print(score)"
   ]
  },
  {
   "cell_type": "code",
   "execution_count": 8,
   "id": "automatic-knowing",
   "metadata": {
    "execution": {
     "iopub.execute_input": "2021-04-20T23:52:02.219411Z",
     "iopub.status.busy": "2021-04-20T23:52:02.213879Z",
     "iopub.status.idle": "2021-04-20T23:52:02.222456Z",
     "shell.execute_reply": "2021-04-20T23:52:02.222960Z"
    },
    "papermill": {
     "duration": 0.032789,
     "end_time": "2021-04-20T23:52:02.223079",
     "exception": false,
     "start_time": "2021-04-20T23:52:02.190290",
     "status": "completed"
    },
    "tags": []
   },
   "outputs": [
    {
     "ename": "NameError",
     "evalue": "name 'model' is not defined",
     "output_type": "error",
     "traceback": [
      "\u001b[0;31m---------------------------------------------------------------------------\u001b[0m",
      "\u001b[0;31mNameError\u001b[0m                                 Traceback (most recent call last)",
      "\u001b[0;32m<ipython-input-8-e61533ae3f5f>\u001b[0m in \u001b[0;36m<module>\u001b[0;34m\u001b[0m\n\u001b[0;32m----> 1\u001b[0;31m \u001b[0mprint\u001b[0m\u001b[0;34m(\u001b[0m\u001b[0mlen\u001b[0m\u001b[0;34m(\u001b[0m\u001b[0mmodel\u001b[0m\u001b[0;34m.\u001b[0m\u001b[0mpool\u001b[0m\u001b[0;34m)\u001b[0m\u001b[0;34m)\u001b[0m\u001b[0;34m\u001b[0m\u001b[0;34m\u001b[0m\u001b[0m\n\u001b[0m\u001b[1;32m      2\u001b[0m \u001b[0mmodel\u001b[0m\u001b[0;34m.\u001b[0m\u001b[0mpool_id\u001b[0m\u001b[0;34m\u001b[0m\u001b[0;34m\u001b[0m\u001b[0m\n",
      "\u001b[0;31mNameError\u001b[0m: name 'model' is not defined"
     ]
    }
   ],
   "source": [
    "print(len(model.pool))\n",
    "model.pool_id"
   ]
  },
  {
   "cell_type": "code",
   "execution_count": 9,
   "id": "dutch-healing",
   "metadata": {
    "execution": {
     "iopub.execute_input": "2021-04-20T23:52:02.269476Z",
     "iopub.status.busy": "2021-04-20T23:52:02.268399Z",
     "iopub.status.idle": "2021-04-20T23:52:08.273598Z",
     "shell.execute_reply": "2021-04-20T23:52:08.273109Z"
    },
    "papermill": {
     "duration": 6.029867,
     "end_time": "2021-04-20T23:52:08.273725",
     "exception": false,
     "start_time": "2021-04-20T23:52:02.243858",
     "status": "completed"
    },
    "tags": []
   },
   "outputs": [],
   "source": [
    "import numpy as np\n",
    "from mesa import Agent\n",
    "\n",
    "# -*- coding: utf-8 -*-\n",
    "\"\"\"\n",
    "Created on Tue Apr 20 11:08:04 2021\n",
    "\n",
    "@author: hambu\n",
    "\"\"\"\n",
    "\n",
    "\n",
    "clients = [[481, 961, 0.155], [481, 961, 0.037], [481, 961, 0.008], [481, 961, 0.226], [481, 961, 0.107], [481, 961, 0.063], [480, 900, 0.177], [481, 961, 0.004], [481, 961, 0.043], [481, 961, 0.006], [480, 840, 0.079], [481, 961, 0.196], [481, 961, 0.268], [481, 961, 0.266], [480, 900, 8.318], [480, 900, 2.507], [481, 961, 0.113], [481, 961, 0.027], [481, 961, 0.182], [481, 961, 0.0], [481, 961, 0.25], [480, 900, 0.119], [480, 900, 0.314], [480, 900, 0.214], [480, 900, 0.176], [480, 900, 0.381], [480, 900, 0.134], [481, 961, 0.007], [481, 961, 0.011], [481, 961, 0.119], [481, 961, 0.074], [481, 961, 0.067], [481, 961, 0.042], [481, 961, 0.856], [481, 961, 0.018], [481, 961, 0.051], [481, 961, 0.042], [481, 961, 0.203], [481, 961, 0.036], [480, 840, 0.706], [481, 961, 0.217], [481, 961, 0.058248], [481, 961, 0.0], [481, 961, 0.067], [481, 961, 0.00114], [481, 961, 0.048], [481, 961, 0.158688], [481, 961, 0.083328], [481, 961, 0.23], [481, 961, 0.148872], [481, 961, 0.276], [480, 840, 0.975], [480, 840, 0.592], [480, 840, 0.341], [480, 840, 0.21], [480, 840, 0.307], [480, 840, 0.548], [480, 840, 0.074136], [480, 840, 0.051], [480, 840, 0.316], [480, 840, 0.189528], [480, 840, 0.20286], [480, 840, 1.369], [480, 840, 0.0318], [480, 840, 2.093], [480, 840, 0.347], [480, 840, 0.256], [481, 961, 0.0], [481, 961, 0.007704], [481, 961, 0.008976], [481, 961, 0.011], [481, 961, 0.00606], [480, 900, 0.083], [480, 900, 0.026], [481, 961, 0.125], [481, 961, 0.059904], [481, 961, 0.257], [481, 961, 0.066], [480, 900, 0.241], [481, 961, 2.605], [481, 961, 0.21], [480, 900, 0.121], [481, 961, 0.075276], [480, 900, 0.064152], [480, 900, 0.798], [480, 900, 0.241], [481, 961, 0.120876], [481, 961, 0.065], [480, 840, 0.113], [481, 961, 0.030168], [481, 961, 0.034656], [481, 961, 0.123], [481, 961, 0.174], [481, 961, 0.541], [481, 961, 0.165732], [481, 961, 0.103404], [481, 961, 0.019], [481, 961, 0.097], [481, 961, 0.005], [481, 961, 0.04572], [481, 961, 0.052152], [481, 961, 0.034], [481, 961, 0.728], [481, 961, 0.057672], [480, 720, 0.019404], [481, 961, 0.022], [481, 961, 0.932], [480, 900, 0.674], [480, 900, 0.493], [480, 900, 0.257], [481, 961, 0.487], [481, 961, 1.093], [481, 961, 0.098], [481, 961, 0.0], [481, 961, 0.207552], [481, 961, 0.0198], [481, 961, 0.082908], [481, 961, 0.068352], [481, 961, 0.069996]]\n",
    "\n",
    "\n",
    "\n",
    "\n",
    "\n",
    "\n",
    "\n",
    "import pandas as pd\n",
    "import numpy as np\n",
    "\n",
    "# import osmnx as ox\n",
    "\n",
    "import random as rd\n",
    "import numpy as np\n",
    "# import matplotlib.pyplot as plt \n",
    "\n",
    "cost_depot_customers = pd.read_excel(r\"/kaggle/input/data-sma/6_detail_table_cust_depots_distances.xls\")\n",
    "cost_customers_customers = pd.read_excel(r\"/kaggle/input/data-sma/7_detail_table_cust_cust_distances.xls\")\n",
    "trucks_infos = pd.read_excel(r\"/kaggle/input/data-sma/3_detail_table_vehicles.xls\")\n",
    "depot_infos= pd.read_excel(r\"/kaggle/input/data-sma/4_detail_table_depots.xls\")\n",
    "customers_list = pd.read_excel(r\"/kaggle/input/data-sma/2_detail_table_customers.xls\")\n",
    "road_choice = 2922001\n",
    "\n",
    "def truncate_df(df,road_choice):\n",
    "    minimum = df.ROUTE_ID.eq(road_choice).idxmax()\n",
    "    df = df.truncate(before = minimum)\n",
    "    maximum = df.ROUTE_ID.ne(road_choice).idxmax()-1\n",
    "    df = df.truncate(after=maximum)\n",
    "    df.reset_index(drop=True,inplace=True)\n",
    "    return df\n",
    "\n",
    "cost_customers_customers=truncate_df(cost_customers_customers,road_choice)\n",
    "cost_depot_customers=truncate_df(cost_depot_customers,road_choice)\n",
    "trucks_infos=truncate_df(trucks_infos,road_choice)\n",
    "customers_list=truncate_df(customers_list,road_choice)\n",
    "depot_infos = truncate_df(depot_infos,road_choice)\n",
    "\n",
    "\n",
    "class Client:\n",
    "\n",
    "    def __init__(self, name, x, y, quantity, start, stop,code):\n",
    "        self.name = name\n",
    "        self.code = code\n",
    "        self.x = x\n",
    "        self.y = y\n",
    "        self.quantity = quantity\n",
    "        self.start = start\n",
    "        self.stop = stop\n",
    "        self.delivered = False\n",
    "\n",
    "class Truck:\n",
    "    \n",
    "    def __init__(self, name, quantity_max, start, stop,route_id):\n",
    "        self.name = name\n",
    "        self.route_id = route_id\n",
    "        self.x = 0\n",
    "        self.y = 0\n",
    "        self.quantity_max = quantity_max\n",
    "        self.start = start\n",
    "        self.stop = stop\n",
    "        self.remaining_quantity=quantity_max\n",
    "        self.vitesse = 25\n",
    "\n",
    "    def delivery(self, client):\n",
    "        self.x=client.x\n",
    "        self.y=client.y\n",
    "        self.remaining_quantity -= client.quantity\n",
    "\n",
    "def liste_c(customers_list):\n",
    "    liste_clients = []\n",
    "    for i in range(len(customers_list)):\n",
    "        customer = Client(i,customers_list['CUSTOMER_LATITUDE'][i],customers_list['CUSTOMER_LONGITUDE'][i],\n",
    "                        customers_list['CUSTOMER_TIME_WINDOW_FROM_MIN'][i],customers_list['CUSTOMER_TIME_WINDOW_TO_MIN'][i],customers_list['TOTAL_VOLUME_M3'][i],\n",
    "                        customers_list['CUSTOMER_CODE'][i])\n",
    "        liste_clients.append(customer)\n",
    "    return liste_clients\n",
    "\n",
    "\n",
    "def find_client_by_code(code,liste_clients):\n",
    "    find = False\n",
    "    i=0\n",
    "    client = Client(-1,-1,-1,-1,-1,-1,-1)\n",
    "    while i<len(liste_clients) and not find :\n",
    "        if liste_clients[i].code == code :\n",
    "            client = liste_clients[i]\n",
    "            find = True\n",
    "        i +=1\n",
    "    return client\n",
    "\n",
    "\n",
    "def cost_matrix(liste_clients,cost_depot_customers,cost_customers_customers):\n",
    "    n = len(liste_clients)+1\n",
    "    cost_matrix= np.zeros((n,n))\n",
    "    time_matrix= np.zeros((n,n))\n",
    "    for i in range(0,len(cost_depot_customers),2):\n",
    "        client = find_client_by_code(cost_depot_customers['CUSTOMER_CODE'][i],liste_clients)\n",
    "        if client.name == -1 :\n",
    "            pass\n",
    "        else : \n",
    "            cost_matrix[0][client.name+1] = cost_depot_customers['DISTANCE_KM'][i]\n",
    "            cost_matrix[client.name+1][0] = cost_depot_customers['DISTANCE_KM'][i+1]\n",
    "            time_matrix[0][client.name+1] = cost_depot_customers['TIME_DISTANCE_MIN'][i]\n",
    "            time_matrix[client.name+1][0] = cost_depot_customers['TIME_DISTANCE_MIN'][i+1]\n",
    "    for i in range(len(cost_customers_customers)):\n",
    "        client_1=find_client_by_code(cost_customers_customers['CUSTOMER_CODE_FROM'][i],liste_clients)\n",
    "        client_2=find_client_by_code(cost_customers_customers['CUSTOMER_CODE_TO'][i],liste_clients)\n",
    "        if client_1.name == -1 or client_2.name==-1 : \n",
    "            pass\n",
    "        else : \n",
    "            cost_matrix[client_1.name+1][client_2.name+1] = cost_customers_customers['DISTANCE_KM'][i]\n",
    "            time_matrix[client_1.name+1][client_2.name+1] = cost_customers_customers['TIME_DISTANCE_MIN'][i]\n",
    "    return cost_matrix,time_matrix\n",
    "\n",
    "def liste_tr(trucks_infos,depot_infos):\n",
    "    lat = depot_infos['DEPOT_LATITUDE'][0]\n",
    "    long = depot_infos['DEPOT_LONGITUDE'][0]\n",
    "    T = []\n",
    "    for i in range(len(trucks_infos)):\n",
    "        T.append(Truck(i,trucks_infos['VEHICLE_TOTAL_VOLUME_M3'][i],lat,long,trucks_infos['ROUTE_ID'][i]))\n",
    "    return T\n",
    "\n",
    "depot=Client(0,depot_infos['DEPOT_LATITUDE'][0],depot_infos['DEPOT_LONGITUDE'][0],0,0,0,-100000)\n",
    "\n",
    "C = liste_c(customers_list)\n",
    "T = liste_tr(trucks_infos,depot_infos)\n",
    "\n",
    "\n",
    "clients= [[C[i].quantity, C[i].start, C[i].stop] for i in range(len(C))]\n",
    "list_clients = C\n",
    "\n",
    "(c_matrix,time_matrix)=cost_matrix(C,cost_depot_customers,cost_customers_customers)\n",
    "\n",
    "###############################################################################\n",
    "######################   Enregistrement des constantes   ######################\n",
    "###############################################################################\n",
    "global best_pop\n",
    "#Équipements        \n",
    "n_trucks = len(T) #Nombre de camions\n",
    "truck_capacity = [ i.quantity_max for i in T] #Capacité unitaire pouvant être emmenée par chaque camion\n",
    "\n",
    "#Paramètres AGs\n",
    "nb_pop = 200 #taille de notre population\n",
    "nb_generations = 100 #nombre de générations étudiées par l'AGs\n",
    "elitism = True #Volonté de ne sélectionner que les meilleurs éléments\n",
    "best_pop = 40 #Taille de la population élite : les N-meilleurs membres de la population\n",
    "mutation_rate = 0.3 #probabilité de mutation lors du passage à la génération suivante\n",
    "\n",
    "#Pénalités\n",
    "time_penalty = 100 #Pénalité si un client n'est pas livré dans les temps\n",
    "quantity_penalty = 100 #Pénalité si on ne livre pas intégralement un client\n",
    "truck_cost = 0 #Coût d'utilisation d'un camion\n",
    "\n",
    "weight_K=10_000\n",
    "weight_q=10_000\n",
    "weight_t=3\n",
    "weight_d=13\n",
    "weight_c=10\n",
    "\n",
    "from IPython.display import clear_output\n",
    "import random as rd\n",
    "\n",
    "rand=rd.random\n",
    "\n",
    "Phenon=[i for i in range(len(clients))] +[-i for i in range(1,n_trucks)]\n",
    "back_to_depot=[-i for i in range(n_trucks)]\n",
    "\n",
    "nv=len(Phenon)\n",
    "\n",
    "def generate():\n",
    "    a=Phenon[1:]\n",
    "    rd.shuffle(a)\n",
    "    return [0]+a\n",
    "\n",
    "#def taille_pop2():\n",
    "#    pop = []\n",
    "#    for i in range(taille_pop):\n",
    "#        circuit2=generate()\n",
    "#        distance=0\n",
    "#        for j in range(1,nv):\n",
    "#            distance+=dist[circuit2[j-1],circuit2[j]]\n",
    "#        pop.append([circuit2,distance])\n",
    "#    return pop\n",
    "        \n",
    "    \n",
    "\n",
    "def crossover(parent1,parent2):\n",
    "    \"\"\"\n",
    "    Utilisation d'un two points crossover\n",
    "    Les points de départ et de fin sont choisis aléatoirement\n",
    "    \"\"\"\n",
    "    \n",
    "    parent1 = parent1[1:]\n",
    "    parent2 = parent2[1:]\n",
    "    nv=len(parent1)\n",
    "    # On récupère une partie des critères du premier parent\n",
    "    start_point=rd.randint(0,nv-1)\n",
    "    end_point=rd.randint(0,nv-1)\n",
    "    \n",
    "    if start_point > end_point :\n",
    "        start_point,end_point=end_point,start_point\n",
    "    \n",
    "    child=[\"False\" for i in range(nv)]\n",
    "    heritage_parent1=parent1[start_point:end_point+1]\n",
    "    child[start_point:end_point+1]=heritage_parent1\n",
    "    \n",
    "    \n",
    "    # On récupère ensuite le maximum de critères possibles du parent2 tout en conservant un enfant sans doublons\n",
    "    m1=[]\n",
    "    for i in range(nv):\n",
    "        if i > end_point or i < start_point: \n",
    "            criteria=parent2[i]\n",
    "            if criteria not in heritage_parent1:\n",
    "                child[i]=criteria\n",
    "            else:\n",
    "                m1.append(i)\n",
    "                \n",
    "                \n",
    "    # On complète par les critères manquants            \n",
    "    m2=[]\n",
    "#    print(enfant)\n",
    "    for i in Phenon[1:]:\n",
    "\n",
    "        \n",
    "        if i not in child:\n",
    "            m2.append(i)\n",
    "\n",
    "    rd.shuffle(m2)\n",
    "#    print(patrimoine_parent1)\n",
    "#    print(parent2)\n",
    "#    print(m2)\n",
    "#    print(m1)\n",
    "#    print(enfant)\n",
    "    for i in range(len(m1)):\n",
    "        child[m1[i]]=m2[i]\n",
    "    \n",
    "    #mutation\n",
    "\n",
    "    \n",
    "    if rd.random() < mutation_rate:\n",
    "        a=rd.randint(0,len(child)-1)\n",
    "        b=rd.randint(0,len(child)-1)   \n",
    "        child[a], child[b] = child[b], child[a]\n",
    "            \n",
    "    return [0]+child \n",
    "\n",
    "def uniform_cross(p1,p2, mutation_rate):\n",
    "    \n",
    "    p1 = p1[1:]\n",
    "    p2 = p2[1:]\n",
    "    \n",
    "    child1 = []\n",
    "    child2 = []\n",
    "    \n",
    "    for i in range(len(p1)):\n",
    "        if(p1[i] in child1 and p2[i] in child1):\n",
    "            child2.append(p1[i])\n",
    "            child2.append(p2[i])\n",
    "        elif(p1[i] in child2 and p2[i] in child2):\n",
    "            child1.append(p1[i])\n",
    "            child1.append(p2[i])\n",
    "        elif(p1[i] in child2 or p2[i] in child1):\n",
    "            child1.append(p1[i])\n",
    "            child2.append(p2[i])\n",
    "            \n",
    "        elif(p1[i] in child1 or p2[i] in child2):\n",
    "            child1.append(p2[i])\n",
    "            child2.append(p1[i])\n",
    "            \n",
    "        else:\n",
    "            a = rd.randint(1,2)\n",
    "            if(a == 1):\n",
    "                child1.append(p1[i])\n",
    "                child2.append(p2[i])\n",
    "            else:\n",
    "                child1.append(p2[i])\n",
    "                child2.append(p1[i])\n",
    "    child1=mutation(child1, mutation_rate)\n",
    "    child2=mutation(child2, mutation_rate)\n",
    "    \n",
    "    return([0]+child1, [0] + child2)\n",
    "\n",
    "def mutation(child, mutation_rate):\n",
    "    if(rd.random()-mutation_rate < 0):\n",
    "        point1 = rd.randint(0, len(child)-1)\n",
    "        point2 = rd.randint(0, len(child)-1)\n",
    "        child[point1], child[point2] = child[point2], child[point1]\n",
    "    return(child)\n",
    "        \n",
    "def init_pop(n):\n",
    "    pop=[]\n",
    "    for i in range(n):\n",
    "        track=generate()\n",
    "        pop.append(population_evaluation([track,0]))\n",
    "    pop=merge_sort(pop)\n",
    "    return pop\n",
    "\n",
    "\n",
    "\n",
    "def next_gen(population, mutation_rate):\n",
    "  \n",
    "    new_gen=[]\n",
    "    \n",
    "    if elitism == True:\n",
    "        elite=population[:best_pop]\n",
    "    else:\n",
    "        elite=[]\n",
    "        \n",
    "\n",
    "    nb_child=(nb_pop//2)\n",
    "    \n",
    "    couples=[i for i in range(nb_child*2)]\n",
    "\n",
    "    rd.shuffle(couples)\n",
    "\n",
    "\n",
    "    for i in range(nb_child//2):\n",
    "        \n",
    "        # child=crossover(population[couples[i]][0],population[couples[nb_pop//2+i]][0])        \n",
    "        # new_gen.append(population_evaluation([child,0]))\n",
    "        \n",
    "        child1=uniform_cross(population[couples[i]][0],population[couples[nb_pop//2+i]][0],mutation_rate)[0]\n",
    "        child2=uniform_cross(population[couples[i]][0],population[couples[nb_pop//2+i]][0],mutation_rate)[1]\n",
    "        new_gen.append(population_evaluation([child1,0]))\n",
    "        new_gen.append(population_evaluation([child2,0]))\n",
    "        \n",
    "    new_gen=new_gen+elite\n",
    "    \n",
    "    new_gen= new_gen + init_pop(nb_pop-len(new_gen))\n",
    "    \n",
    "    population=merge_sort(new_gen[:])\n",
    "    \n",
    "    return(population)\n",
    "\n",
    "###############################################################################\n",
    "##########################   Fonctions d'évaluation  ##########################\n",
    "###############################################################################\n",
    "\n",
    "def find_client_by_name(name,C):\n",
    "    i = 0\n",
    "    n = len(C)\n",
    "    find = False\n",
    "    client = Client(-1,0,0,0,0,0,-1)\n",
    "    while i < n and find == False : \n",
    "        if C[i].name == name :\n",
    "            client = C[i]\n",
    "            find = True\n",
    "        i +=1\n",
    "    return client\n",
    "\n",
    "def cost_function(R,M,M_time,C, weight_K, weight_q, weight_t, weight_d, weight_c,T):\n",
    "    \n",
    "    R2 = []\n",
    "    a = 0\n",
    "    b = 1\n",
    "    \n",
    "    #assert(R[0][a] == 0)\n",
    "    \n",
    "    print('hey')\n",
    "    for i in range(len(T)):\n",
    "        Done = False\n",
    "        while R[0][b]>=0 and not Done:\n",
    "            b+=1\n",
    "            if b == len(R[0]):\n",
    "                b = b-1\n",
    "                Done = True\n",
    "        truck = Truck(i, T[i].quantity_max, 0, 0,T[i].route_id)\n",
    "        \n",
    "        R2.append([truck, R[0][a+1:b]])\n",
    "        a = b\n",
    "        b+=1\n",
    "        \n",
    "    R = R2.copy()\n",
    "    \n",
    "    SUM = 0\n",
    "    n = len(R)\n",
    "    K = 0\n",
    "    for x in R :\n",
    "        if len(x)> 1 :\n",
    "            K+=1\n",
    "    t = 0\n",
    "    d = 0\n",
    "    c = 0\n",
    "    q = 0\n",
    "    dispo = [R[i][0].start for i in range(n) ]\n",
    "    print('hey2')\n",
    "    for i in range(n):\n",
    "        if len(R[i])> 1 :\n",
    "            print('hey3')\n",
    "            truck = R[i][0]\n",
    "            truck.remaining_quantity = truck.quantity_max\n",
    "            client = find_client_by_name(R[i][1],C)\n",
    "            dispo[i] = dispo[i] + M_time[client.name][0]\n",
    "            c+= M[client.name][0]\n",
    "            d += max(0,dispo[i] - client.stop)\n",
    "            t -= min(0, dispo[i] - client.start)\n",
    "            truck.delivery(client)\n",
    "            \n",
    "            for j in range(2,len(R[i])):\n",
    "                print('hey4')\n",
    "\n",
    "                client_prec = find_client_by_name(R[i][j-1],C)\n",
    "                client = find_client_by_name(R[i][j],C)\n",
    "                c+= M[client_prec.name][client.name]\n",
    "                dispo[i] = dispo[i] + M_time[client_prec.name][client.name]\n",
    "                d += max(0,dispo[i] - client.stop)\n",
    "                t -= min(0, dispo[i] - client.start)\n",
    "                truck.delivery(client)\n",
    "            c += M[0][client.name]\n",
    "            q -= min(0,truck.remaining_quantity)\n",
    "    print('hey5')\n",
    "\n",
    "    SUM = weight_K * K + weight_q * q + weight_t * t + weight_d * d + weight_c * c\n",
    "    return SUM\n",
    "\n",
    "                \n",
    "def track_evaluation(truck_track):\n",
    "    t3=0\n",
    "    trucks_time = []\n",
    "    for track in truck_track:\n",
    "        t=0\n",
    "        for q in truck_capacity :\n",
    "            \n",
    "            if len(track) >2 :\n",
    "                t3+= weight_K*len(truck_capacity) #Si le camion est utilisé, ajout du coût d'utilisation dans le score du circuit\n",
    "            for i in range(1,len(track)):\n",
    "                \n",
    "                # Evaluation fenêtre\n",
    "                t2= time_matrix[track[i-1]][track[i]]\n",
    "                \n",
    "                t4 = c_matrix[track[i-1]][track[i]]\n",
    "                if t+t2 <= clients[track[i]][1]: #Si arrivé du livreur avant la fin de la fenêtre\n",
    "                    t+=t4 * weight_c\n",
    "                    t3 +=  max(0,clients[track[i]][0]-t) * weight_t\n",
    "                    t+=+max(0,clients[track[i]][0]-t)  #ajout d'un temps d'attente si le livreur arrive avant le début de la fenêtre\n",
    "                else :\n",
    "                    t3+= (t+t2 - clients[track[i]][1])*weight_d #ajout d'une pénalité si une fenêtre n'est pas respectée\n",
    "                    t+=t4*weight_c\n",
    "                  \n",
    "                # Evaluation quantité            \n",
    "                if q >= clients[track[i]][2]:\n",
    "                    q-=clients[track[i]][2]\n",
    "                else : \n",
    "                    t3+=(clients[track[i]][2]-q)*weight_q   #ajout d'une pénalité si une quantité n'est pas respectée\n",
    "                    q=0                \n",
    "        trucks_time.append(t)\n",
    "        t3+=t\n",
    "    return t3 ,trucks_time\n",
    "    \n",
    "                \n",
    "def truck_track_constructor(member):\n",
    "    track=member[0]   \n",
    "\n",
    "\n",
    "    cgt=[0]\n",
    "    truck_track=[]\n",
    "    \n",
    "    for j in range(1,len(track)):\n",
    "        if track[j] <= 0:           \n",
    "            cgt.append(j)\n",
    "            truck_track.append([0] + track[cgt[-2]+1:cgt[-1]] + [0])\n",
    "            \n",
    "    cgt.append(j)\n",
    "    truck_track.append([0] + track[cgt[-2]+1:cgt[-1]+1] + [0])  \n",
    "\n",
    "    return truck_track\n",
    "\n",
    "def population_evaluation(member): \n",
    "    t3,trucks_time=track_evaluation(truck_track_constructor(member))        \n",
    "    member[1]=t3\n",
    "    return member\n",
    "\n",
    "#Nous avons reprogrammé ci-dessous un tri fusion\n",
    "def merge(left,right): \n",
    "    result = []\n",
    "    index_left, index_right = 0, 0\n",
    "    while index_left < len(left) and index_right < len(right):        \n",
    "        if left[index_left][1] <= right[index_right][1]:\n",
    "            result.append(left[index_left])\n",
    "            index_left += 1\n",
    "        else:\n",
    "            result.append(right[index_right])\n",
    "            index_right += 1\n",
    "    if left:\n",
    "        result.extend(left[index_left:])\n",
    "    if right:\n",
    "        result.extend(right[index_right:])\n",
    "    return result\n",
    " \n",
    "def merge_sort(m):\n",
    "    if len(m) <= 1:\n",
    "        return m\n",
    "    middle = len(m) // 2\n",
    "    left = m[:middle]\n",
    "    right = m[middle:]\n",
    "    left = merge_sort(left)\n",
    "    right = merge_sort(right)\n",
    "    return list(merge(left, right))\n",
    "\n",
    "def track_to_member(track):\n",
    "    i=0\n",
    "    member=[[],track_evaluation(track)[0]]\n",
    "    for truck_track in track:\n",
    "        member[0]= member[0]+[i]+truck_track[1:-1]\n",
    "        i-=1\n",
    "    return(member)\n",
    "    \n",
    "\n",
    "class gen_agent(Agent):\n",
    "    \n",
    "    def __init__(self,unique_id,model, nb_pop, nb_generations, n_truck, truck_capacity, list_clients, mutation_rate, nb_states):\n",
    "        super().__init__(unique_id,model)\n",
    "        self.nb_pop = nb_pop\n",
    "        self.nb_generations =  nb_generations\n",
    "        self.n_trucks = n_trucks\n",
    "        self.truck_capacity = truck_capacity\n",
    "        self.list_clients = list_clients\n",
    "        self.time_matrix = time_matrix     \n",
    "        self.best_solution = [] # Meilleure solution à retourner en fin d'éxécution        \n",
    "        self.population = init_pop(nb_pop)\n",
    "        self.solution = self.population[0]\n",
    "        self.mutation_rate = mutation_rate\n",
    "        self.state = np.random.randint(nb_states)\n",
    "        \n",
    "    \n",
    "    def step(self, action, states_list):\n",
    "        prev_sol = self.solution\n",
    "        for i in range(2,self.nb_generations+1):\n",
    "            self.population = next_gen(self.population, self.mutation_rate)\n",
    "        self.solution = self.population[0]\n",
    "        self.mutation_rate = states_list[action][0]\n",
    "        if np.abs((prev_sol[1]-self.solution[1])/prev_sol[1]) < 0.01:\n",
    "            done = True\n",
    "        else:\n",
    "            done = False\n",
    "        return(action,-np.log10(self.solution[1]), done)\n",
    "\n",
    "def epsilon(n) :\n",
    "    return 1/np.sqrt(1+float(n))\n",
    "\n",
    "def policy(state, n) :\n",
    "# Compléter la fonction\n",
    "    epsilon2 = epsilon(n)\n",
    "    if np.random.uniform(0, 1) < epsilon2 :\n",
    "        action = np.random.randint(len(Q)) # Choix aléatoire de la prochaine action\n",
    "    else:\n",
    "        action = np.argmax(Q[state]) # Choix de la meilleure action dans la table Q\n",
    "    return action\n",
    "\n",
    "def play_episode(model, states_list, state, episode_i) :\n",
    "    done = False\n",
    "    model.state = state\n",
    "    total_reward, nsteps = 0, 0\n",
    "    while not done :\n",
    "        print(nsteps)\n",
    "        action = policy(state, episode_i)\n",
    "        next_state,reward,done = model.step(action,states_list)\n",
    "        Q[state][action] = Q[state][action]+alpha*(reward+gamma*np.max(Q[next_state])-Q[state][action])\n",
    "        state = next_state\n",
    "        total_reward += reward\n",
    "        nsteps += 1\n",
    "        if nsteps > 10 : \n",
    "            #break\n",
    "            done = True\n",
    "    \n",
    "    return total_reward, nsteps\n",
    "\n",
    "def fit(nb_episodes,states_list) :\n",
    "    list_rewards = [] # Liste des résultats\n",
    "    list_steps = [] # Liste du nombre d'étapes par épisode\n",
    "    nb_states = len(states_list)\n",
    "    for i in range(nb_episodes) :\n",
    "        model = gen_agent(1,Agent, nb_pop, nb_generations, n_trucks, truck_capacity, list_clients, mutation_rate, nb_states)\n",
    "        state = model.state\n",
    "        total_reward, nsteps = play_episode(model,states_list,state,i)\n",
    "        print(\"Episode n° \",i)\n",
    "        #clear_output(wait=True)\n",
    "        list_rewards.append(total_reward)\n",
    "        list_steps.append(nsteps) \n",
    "    \n",
    "    return list_rewards, list_steps\n",
    "\n",
    "alpha = 0.6\n",
    "gamma = 0.9\n",
    "\n",
    "n = 10\n",
    "\n",
    "states_list = []\n",
    "e = 0\n",
    "\n",
    "for i in range(n):\n",
    "    mutation_rate = (i+1)/n\n",
    "    states_list.append([mutation_rate, e])\n",
    "    e+=1\n",
    " \n",
    "n = len(states_list)\n",
    "\n",
    "Q = np.random.rand(n, n)"
   ]
  },
  {
   "cell_type": "code",
   "execution_count": 10,
   "id": "consecutive-reflection",
   "metadata": {
    "execution": {
     "iopub.execute_input": "2021-04-20T23:52:08.329361Z",
     "iopub.status.busy": "2021-04-20T23:52:08.324213Z"
    },
    "papermill": {
     "duration": null,
     "end_time": null,
     "exception": false,
     "start_time": "2021-04-20T23:52:08.295740",
     "status": "running"
    },
    "tags": []
   },
   "outputs": [
    {
     "name": "stdout",
     "output_type": "stream",
     "text": [
      "0\n"
     ]
    },
    {
     "name": "stdout",
     "output_type": "stream",
     "text": [
      "1\n"
     ]
    },
    {
     "name": "stdout",
     "output_type": "stream",
     "text": [
      "Episode n°  0\n"
     ]
    },
    {
     "name": "stdout",
     "output_type": "stream",
     "text": [
      "0\n"
     ]
    },
    {
     "name": "stdout",
     "output_type": "stream",
     "text": [
      "1\n"
     ]
    },
    {
     "name": "stdout",
     "output_type": "stream",
     "text": [
      "2\n"
     ]
    },
    {
     "name": "stdout",
     "output_type": "stream",
     "text": [
      "3\n"
     ]
    },
    {
     "name": "stdout",
     "output_type": "stream",
     "text": [
      "4\n"
     ]
    },
    {
     "name": "stdout",
     "output_type": "stream",
     "text": [
      "5\n"
     ]
    },
    {
     "name": "stdout",
     "output_type": "stream",
     "text": [
      "6\n"
     ]
    },
    {
     "name": "stdout",
     "output_type": "stream",
     "text": [
      "7\n"
     ]
    },
    {
     "name": "stdout",
     "output_type": "stream",
     "text": [
      "8\n"
     ]
    },
    {
     "name": "stdout",
     "output_type": "stream",
     "text": [
      "9\n"
     ]
    },
    {
     "name": "stdout",
     "output_type": "stream",
     "text": [
      "10\n"
     ]
    },
    {
     "name": "stdout",
     "output_type": "stream",
     "text": [
      "Episode n°  1\n"
     ]
    },
    {
     "name": "stdout",
     "output_type": "stream",
     "text": [
      "0\n"
     ]
    },
    {
     "name": "stdout",
     "output_type": "stream",
     "text": [
      "1\n"
     ]
    },
    {
     "name": "stdout",
     "output_type": "stream",
     "text": [
      "2\n"
     ]
    },
    {
     "name": "stdout",
     "output_type": "stream",
     "text": [
      "3\n"
     ]
    },
    {
     "name": "stdout",
     "output_type": "stream",
     "text": [
      "4\n"
     ]
    },
    {
     "name": "stdout",
     "output_type": "stream",
     "text": [
      "5\n"
     ]
    },
    {
     "name": "stdout",
     "output_type": "stream",
     "text": [
      "6\n"
     ]
    },
    {
     "name": "stdout",
     "output_type": "stream",
     "text": [
      "7\n"
     ]
    },
    {
     "name": "stdout",
     "output_type": "stream",
     "text": [
      "8\n"
     ]
    },
    {
     "name": "stdout",
     "output_type": "stream",
     "text": [
      "9\n"
     ]
    },
    {
     "name": "stdout",
     "output_type": "stream",
     "text": [
      "10\n"
     ]
    },
    {
     "name": "stdout",
     "output_type": "stream",
     "text": [
      "Episode n°  2\n"
     ]
    },
    {
     "name": "stdout",
     "output_type": "stream",
     "text": [
      "0\n"
     ]
    },
    {
     "name": "stdout",
     "output_type": "stream",
     "text": [
      "1\n"
     ]
    },
    {
     "name": "stdout",
     "output_type": "stream",
     "text": [
      "2\n"
     ]
    },
    {
     "name": "stdout",
     "output_type": "stream",
     "text": [
      "3\n"
     ]
    },
    {
     "name": "stdout",
     "output_type": "stream",
     "text": [
      "4\n"
     ]
    },
    {
     "name": "stdout",
     "output_type": "stream",
     "text": [
      "5\n"
     ]
    },
    {
     "name": "stdout",
     "output_type": "stream",
     "text": [
      "6\n"
     ]
    },
    {
     "name": "stdout",
     "output_type": "stream",
     "text": [
      "7\n"
     ]
    },
    {
     "name": "stdout",
     "output_type": "stream",
     "text": [
      "8\n"
     ]
    },
    {
     "name": "stdout",
     "output_type": "stream",
     "text": [
      "9\n"
     ]
    },
    {
     "name": "stdout",
     "output_type": "stream",
     "text": [
      "10\n"
     ]
    },
    {
     "name": "stdout",
     "output_type": "stream",
     "text": [
      "Episode n°  3\n"
     ]
    },
    {
     "name": "stdout",
     "output_type": "stream",
     "text": [
      "0\n"
     ]
    },
    {
     "name": "stdout",
     "output_type": "stream",
     "text": [
      "1\n"
     ]
    },
    {
     "name": "stdout",
     "output_type": "stream",
     "text": [
      "2\n"
     ]
    },
    {
     "name": "stdout",
     "output_type": "stream",
     "text": [
      "3\n"
     ]
    },
    {
     "name": "stdout",
     "output_type": "stream",
     "text": [
      "4\n"
     ]
    },
    {
     "name": "stdout",
     "output_type": "stream",
     "text": [
      "5\n"
     ]
    },
    {
     "name": "stdout",
     "output_type": "stream",
     "text": [
      "6\n"
     ]
    },
    {
     "name": "stdout",
     "output_type": "stream",
     "text": [
      "7\n"
     ]
    },
    {
     "name": "stdout",
     "output_type": "stream",
     "text": [
      "8\n"
     ]
    },
    {
     "name": "stdout",
     "output_type": "stream",
     "text": [
      "9\n"
     ]
    },
    {
     "name": "stdout",
     "output_type": "stream",
     "text": [
      "10\n"
     ]
    },
    {
     "name": "stdout",
     "output_type": "stream",
     "text": [
      "Episode n°  4\n"
     ]
    },
    {
     "name": "stdout",
     "output_type": "stream",
     "text": [
      "0\n"
     ]
    },
    {
     "name": "stdout",
     "output_type": "stream",
     "text": [
      "1\n"
     ]
    },
    {
     "name": "stdout",
     "output_type": "stream",
     "text": [
      "2\n"
     ]
    },
    {
     "name": "stdout",
     "output_type": "stream",
     "text": [
      "Episode n°  5\n"
     ]
    },
    {
     "name": "stdout",
     "output_type": "stream",
     "text": [
      "0\n"
     ]
    },
    {
     "name": "stdout",
     "output_type": "stream",
     "text": [
      "1\n"
     ]
    },
    {
     "name": "stdout",
     "output_type": "stream",
     "text": [
      "2\n"
     ]
    },
    {
     "name": "stdout",
     "output_type": "stream",
     "text": [
      "3\n"
     ]
    },
    {
     "name": "stdout",
     "output_type": "stream",
     "text": [
      "4\n"
     ]
    },
    {
     "name": "stdout",
     "output_type": "stream",
     "text": [
      "5\n"
     ]
    },
    {
     "name": "stdout",
     "output_type": "stream",
     "text": [
      "6\n"
     ]
    },
    {
     "name": "stdout",
     "output_type": "stream",
     "text": [
      "7\n"
     ]
    },
    {
     "name": "stdout",
     "output_type": "stream",
     "text": [
      "8\n"
     ]
    },
    {
     "name": "stdout",
     "output_type": "stream",
     "text": [
      "9\n"
     ]
    },
    {
     "name": "stdout",
     "output_type": "stream",
     "text": [
      "10\n"
     ]
    },
    {
     "name": "stdout",
     "output_type": "stream",
     "text": [
      "Episode n°  6\n"
     ]
    },
    {
     "name": "stdout",
     "output_type": "stream",
     "text": [
      "0\n"
     ]
    },
    {
     "name": "stdout",
     "output_type": "stream",
     "text": [
      "1\n"
     ]
    },
    {
     "name": "stdout",
     "output_type": "stream",
     "text": [
      "2\n"
     ]
    },
    {
     "name": "stdout",
     "output_type": "stream",
     "text": [
      "3\n"
     ]
    },
    {
     "name": "stdout",
     "output_type": "stream",
     "text": [
      "4\n"
     ]
    },
    {
     "name": "stdout",
     "output_type": "stream",
     "text": [
      "5\n"
     ]
    },
    {
     "name": "stdout",
     "output_type": "stream",
     "text": [
      "6\n"
     ]
    },
    {
     "name": "stdout",
     "output_type": "stream",
     "text": [
      "7\n"
     ]
    },
    {
     "name": "stdout",
     "output_type": "stream",
     "text": [
      "8\n"
     ]
    },
    {
     "name": "stdout",
     "output_type": "stream",
     "text": [
      "9\n"
     ]
    },
    {
     "name": "stdout",
     "output_type": "stream",
     "text": [
      "10\n"
     ]
    },
    {
     "name": "stdout",
     "output_type": "stream",
     "text": [
      "Episode n°  7\n"
     ]
    },
    {
     "name": "stdout",
     "output_type": "stream",
     "text": [
      "0\n"
     ]
    },
    {
     "name": "stdout",
     "output_type": "stream",
     "text": [
      "1\n"
     ]
    },
    {
     "name": "stdout",
     "output_type": "stream",
     "text": [
      "2\n"
     ]
    },
    {
     "name": "stdout",
     "output_type": "stream",
     "text": [
      "3\n"
     ]
    },
    {
     "name": "stdout",
     "output_type": "stream",
     "text": [
      "4\n"
     ]
    },
    {
     "name": "stdout",
     "output_type": "stream",
     "text": [
      "5\n"
     ]
    },
    {
     "name": "stdout",
     "output_type": "stream",
     "text": [
      "6\n"
     ]
    },
    {
     "name": "stdout",
     "output_type": "stream",
     "text": [
      "7\n"
     ]
    },
    {
     "name": "stdout",
     "output_type": "stream",
     "text": [
      "8\n"
     ]
    },
    {
     "name": "stdout",
     "output_type": "stream",
     "text": [
      "9\n"
     ]
    },
    {
     "name": "stdout",
     "output_type": "stream",
     "text": [
      "10\n"
     ]
    },
    {
     "name": "stdout",
     "output_type": "stream",
     "text": [
      "Episode n°  8\n"
     ]
    },
    {
     "name": "stdout",
     "output_type": "stream",
     "text": [
      "0\n"
     ]
    },
    {
     "name": "stdout",
     "output_type": "stream",
     "text": [
      "1\n"
     ]
    },
    {
     "name": "stdout",
     "output_type": "stream",
     "text": [
      "2\n"
     ]
    },
    {
     "name": "stdout",
     "output_type": "stream",
     "text": [
      "3\n"
     ]
    },
    {
     "name": "stdout",
     "output_type": "stream",
     "text": [
      "4\n"
     ]
    },
    {
     "name": "stdout",
     "output_type": "stream",
     "text": [
      "5\n"
     ]
    },
    {
     "name": "stdout",
     "output_type": "stream",
     "text": [
      "6\n"
     ]
    },
    {
     "name": "stdout",
     "output_type": "stream",
     "text": [
      "7\n"
     ]
    },
    {
     "name": "stdout",
     "output_type": "stream",
     "text": [
      "8\n"
     ]
    },
    {
     "name": "stdout",
     "output_type": "stream",
     "text": [
      "9\n"
     ]
    },
    {
     "name": "stdout",
     "output_type": "stream",
     "text": [
      "10\n"
     ]
    },
    {
     "name": "stdout",
     "output_type": "stream",
     "text": [
      "Episode n°  9\n"
     ]
    },
    {
     "name": "stdout",
     "output_type": "stream",
     "text": [
      "0\n"
     ]
    },
    {
     "name": "stdout",
     "output_type": "stream",
     "text": [
      "1\n"
     ]
    },
    {
     "name": "stdout",
     "output_type": "stream",
     "text": [
      "2\n"
     ]
    },
    {
     "name": "stdout",
     "output_type": "stream",
     "text": [
      "3\n"
     ]
    },
    {
     "name": "stdout",
     "output_type": "stream",
     "text": [
      "4\n"
     ]
    },
    {
     "name": "stdout",
     "output_type": "stream",
     "text": [
      "5\n"
     ]
    },
    {
     "name": "stdout",
     "output_type": "stream",
     "text": [
      "6\n"
     ]
    },
    {
     "name": "stdout",
     "output_type": "stream",
     "text": [
      "7\n"
     ]
    },
    {
     "name": "stdout",
     "output_type": "stream",
     "text": [
      "8\n"
     ]
    },
    {
     "name": "stdout",
     "output_type": "stream",
     "text": [
      "9\n"
     ]
    },
    {
     "name": "stdout",
     "output_type": "stream",
     "text": [
      "10\n"
     ]
    },
    {
     "name": "stdout",
     "output_type": "stream",
     "text": [
      "Episode n°  10\n"
     ]
    },
    {
     "name": "stdout",
     "output_type": "stream",
     "text": [
      "0\n"
     ]
    },
    {
     "name": "stdout",
     "output_type": "stream",
     "text": [
      "1\n"
     ]
    },
    {
     "name": "stdout",
     "output_type": "stream",
     "text": [
      "2\n"
     ]
    },
    {
     "name": "stdout",
     "output_type": "stream",
     "text": [
      "3\n"
     ]
    },
    {
     "name": "stdout",
     "output_type": "stream",
     "text": [
      "4\n"
     ]
    },
    {
     "name": "stdout",
     "output_type": "stream",
     "text": [
      "5\n"
     ]
    },
    {
     "name": "stdout",
     "output_type": "stream",
     "text": [
      "6\n"
     ]
    },
    {
     "name": "stdout",
     "output_type": "stream",
     "text": [
      "7\n"
     ]
    },
    {
     "name": "stdout",
     "output_type": "stream",
     "text": [
      "8\n"
     ]
    },
    {
     "name": "stdout",
     "output_type": "stream",
     "text": [
      "9\n"
     ]
    },
    {
     "name": "stdout",
     "output_type": "stream",
     "text": [
      "10\n"
     ]
    },
    {
     "name": "stdout",
     "output_type": "stream",
     "text": [
      "Episode n°  11\n"
     ]
    },
    {
     "name": "stdout",
     "output_type": "stream",
     "text": [
      "0\n"
     ]
    },
    {
     "name": "stdout",
     "output_type": "stream",
     "text": [
      "1\n"
     ]
    },
    {
     "name": "stdout",
     "output_type": "stream",
     "text": [
      "Episode n°  12\n"
     ]
    },
    {
     "name": "stdout",
     "output_type": "stream",
     "text": [
      "0\n"
     ]
    },
    {
     "name": "stdout",
     "output_type": "stream",
     "text": [
      "1\n"
     ]
    },
    {
     "name": "stdout",
     "output_type": "stream",
     "text": [
      "2\n"
     ]
    },
    {
     "name": "stdout",
     "output_type": "stream",
     "text": [
      "3\n"
     ]
    },
    {
     "name": "stdout",
     "output_type": "stream",
     "text": [
      "4\n"
     ]
    },
    {
     "name": "stdout",
     "output_type": "stream",
     "text": [
      "5\n"
     ]
    },
    {
     "name": "stdout",
     "output_type": "stream",
     "text": [
      "6\n"
     ]
    },
    {
     "name": "stdout",
     "output_type": "stream",
     "text": [
      "7\n"
     ]
    },
    {
     "name": "stdout",
     "output_type": "stream",
     "text": [
      "8\n"
     ]
    },
    {
     "name": "stdout",
     "output_type": "stream",
     "text": [
      "9\n"
     ]
    },
    {
     "name": "stdout",
     "output_type": "stream",
     "text": [
      "10\n"
     ]
    },
    {
     "name": "stdout",
     "output_type": "stream",
     "text": [
      "Episode n°  13\n"
     ]
    },
    {
     "name": "stdout",
     "output_type": "stream",
     "text": [
      "0\n"
     ]
    },
    {
     "name": "stdout",
     "output_type": "stream",
     "text": [
      "1\n"
     ]
    },
    {
     "name": "stdout",
     "output_type": "stream",
     "text": [
      "2\n"
     ]
    },
    {
     "name": "stdout",
     "output_type": "stream",
     "text": [
      "3\n"
     ]
    },
    {
     "name": "stdout",
     "output_type": "stream",
     "text": [
      "4\n"
     ]
    },
    {
     "name": "stdout",
     "output_type": "stream",
     "text": [
      "5\n"
     ]
    },
    {
     "name": "stdout",
     "output_type": "stream",
     "text": [
      "6\n"
     ]
    },
    {
     "name": "stdout",
     "output_type": "stream",
     "text": [
      "7\n"
     ]
    },
    {
     "name": "stdout",
     "output_type": "stream",
     "text": [
      "8\n"
     ]
    },
    {
     "name": "stdout",
     "output_type": "stream",
     "text": [
      "9\n"
     ]
    },
    {
     "name": "stdout",
     "output_type": "stream",
     "text": [
      "10\n"
     ]
    },
    {
     "name": "stdout",
     "output_type": "stream",
     "text": [
      "Episode n°  14\n"
     ]
    },
    {
     "name": "stdout",
     "output_type": "stream",
     "text": [
      "0\n"
     ]
    },
    {
     "name": "stdout",
     "output_type": "stream",
     "text": [
      "1\n"
     ]
    },
    {
     "name": "stdout",
     "output_type": "stream",
     "text": [
      "2\n"
     ]
    },
    {
     "name": "stdout",
     "output_type": "stream",
     "text": [
      "3\n"
     ]
    },
    {
     "name": "stdout",
     "output_type": "stream",
     "text": [
      "4\n"
     ]
    },
    {
     "name": "stdout",
     "output_type": "stream",
     "text": [
      "5\n"
     ]
    },
    {
     "name": "stdout",
     "output_type": "stream",
     "text": [
      "6\n"
     ]
    },
    {
     "name": "stdout",
     "output_type": "stream",
     "text": [
      "7\n"
     ]
    },
    {
     "name": "stdout",
     "output_type": "stream",
     "text": [
      "8\n"
     ]
    },
    {
     "name": "stdout",
     "output_type": "stream",
     "text": [
      "9\n"
     ]
    },
    {
     "name": "stdout",
     "output_type": "stream",
     "text": [
      "10\n"
     ]
    },
    {
     "name": "stdout",
     "output_type": "stream",
     "text": [
      "Episode n°  15\n"
     ]
    },
    {
     "name": "stdout",
     "output_type": "stream",
     "text": [
      "0\n"
     ]
    },
    {
     "name": "stdout",
     "output_type": "stream",
     "text": [
      "1\n"
     ]
    },
    {
     "name": "stdout",
     "output_type": "stream",
     "text": [
      "2\n"
     ]
    },
    {
     "name": "stdout",
     "output_type": "stream",
     "text": [
      "3\n"
     ]
    },
    {
     "name": "stdout",
     "output_type": "stream",
     "text": [
      "4\n"
     ]
    },
    {
     "name": "stdout",
     "output_type": "stream",
     "text": [
      "5\n"
     ]
    },
    {
     "name": "stdout",
     "output_type": "stream",
     "text": [
      "6\n"
     ]
    },
    {
     "name": "stdout",
     "output_type": "stream",
     "text": [
      "7\n"
     ]
    },
    {
     "name": "stdout",
     "output_type": "stream",
     "text": [
      "8\n"
     ]
    },
    {
     "name": "stdout",
     "output_type": "stream",
     "text": [
      "9\n"
     ]
    },
    {
     "name": "stdout",
     "output_type": "stream",
     "text": [
      "10\n"
     ]
    },
    {
     "name": "stdout",
     "output_type": "stream",
     "text": [
      "Episode n°  16\n"
     ]
    },
    {
     "name": "stdout",
     "output_type": "stream",
     "text": [
      "0\n"
     ]
    },
    {
     "name": "stdout",
     "output_type": "stream",
     "text": [
      "1\n"
     ]
    },
    {
     "name": "stdout",
     "output_type": "stream",
     "text": [
      "2\n"
     ]
    },
    {
     "name": "stdout",
     "output_type": "stream",
     "text": [
      "3\n"
     ]
    },
    {
     "name": "stdout",
     "output_type": "stream",
     "text": [
      "4\n"
     ]
    },
    {
     "name": "stdout",
     "output_type": "stream",
     "text": [
      "5\n"
     ]
    },
    {
     "name": "stdout",
     "output_type": "stream",
     "text": [
      "6\n"
     ]
    },
    {
     "name": "stdout",
     "output_type": "stream",
     "text": [
      "7\n"
     ]
    },
    {
     "name": "stdout",
     "output_type": "stream",
     "text": [
      "8\n"
     ]
    },
    {
     "name": "stdout",
     "output_type": "stream",
     "text": [
      "9\n"
     ]
    },
    {
     "name": "stdout",
     "output_type": "stream",
     "text": [
      "10\n"
     ]
    },
    {
     "name": "stdout",
     "output_type": "stream",
     "text": [
      "Episode n°  17\n"
     ]
    },
    {
     "name": "stdout",
     "output_type": "stream",
     "text": [
      "0\n"
     ]
    },
    {
     "name": "stdout",
     "output_type": "stream",
     "text": [
      "1\n"
     ]
    },
    {
     "name": "stdout",
     "output_type": "stream",
     "text": [
      "2\n"
     ]
    },
    {
     "name": "stdout",
     "output_type": "stream",
     "text": [
      "3\n"
     ]
    },
    {
     "name": "stdout",
     "output_type": "stream",
     "text": [
      "4\n"
     ]
    },
    {
     "name": "stdout",
     "output_type": "stream",
     "text": [
      "5\n"
     ]
    },
    {
     "name": "stdout",
     "output_type": "stream",
     "text": [
      "6\n"
     ]
    },
    {
     "name": "stdout",
     "output_type": "stream",
     "text": [
      "7\n"
     ]
    },
    {
     "name": "stdout",
     "output_type": "stream",
     "text": [
      "8\n"
     ]
    },
    {
     "name": "stdout",
     "output_type": "stream",
     "text": [
      "9\n"
     ]
    },
    {
     "name": "stdout",
     "output_type": "stream",
     "text": [
      "10\n"
     ]
    },
    {
     "name": "stdout",
     "output_type": "stream",
     "text": [
      "Episode n°  18\n"
     ]
    },
    {
     "name": "stdout",
     "output_type": "stream",
     "text": [
      "0\n"
     ]
    },
    {
     "name": "stdout",
     "output_type": "stream",
     "text": [
      "1\n"
     ]
    },
    {
     "name": "stdout",
     "output_type": "stream",
     "text": [
      "2\n"
     ]
    },
    {
     "name": "stdout",
     "output_type": "stream",
     "text": [
      "3\n"
     ]
    },
    {
     "name": "stdout",
     "output_type": "stream",
     "text": [
      "4\n"
     ]
    },
    {
     "name": "stdout",
     "output_type": "stream",
     "text": [
      "5\n"
     ]
    },
    {
     "name": "stdout",
     "output_type": "stream",
     "text": [
      "6\n"
     ]
    },
    {
     "name": "stdout",
     "output_type": "stream",
     "text": [
      "7\n"
     ]
    },
    {
     "name": "stdout",
     "output_type": "stream",
     "text": [
      "8\n"
     ]
    },
    {
     "name": "stdout",
     "output_type": "stream",
     "text": [
      "9\n"
     ]
    },
    {
     "name": "stdout",
     "output_type": "stream",
     "text": [
      "10\n"
     ]
    },
    {
     "name": "stdout",
     "output_type": "stream",
     "text": [
      "Episode n°  19\n"
     ]
    },
    {
     "name": "stdout",
     "output_type": "stream",
     "text": [
      "0\n"
     ]
    },
    {
     "name": "stdout",
     "output_type": "stream",
     "text": [
      "1\n"
     ]
    },
    {
     "name": "stdout",
     "output_type": "stream",
     "text": [
      "2\n"
     ]
    },
    {
     "name": "stdout",
     "output_type": "stream",
     "text": [
      "Episode n°  20\n"
     ]
    },
    {
     "name": "stdout",
     "output_type": "stream",
     "text": [
      "0\n"
     ]
    },
    {
     "name": "stdout",
     "output_type": "stream",
     "text": [
      "1\n"
     ]
    },
    {
     "name": "stdout",
     "output_type": "stream",
     "text": [
      "Episode n°  21\n"
     ]
    },
    {
     "name": "stdout",
     "output_type": "stream",
     "text": [
      "0\n"
     ]
    },
    {
     "name": "stdout",
     "output_type": "stream",
     "text": [
      "1\n"
     ]
    },
    {
     "name": "stdout",
     "output_type": "stream",
     "text": [
      "2\n"
     ]
    },
    {
     "name": "stdout",
     "output_type": "stream",
     "text": [
      "Episode n°  22\n"
     ]
    },
    {
     "name": "stdout",
     "output_type": "stream",
     "text": [
      "0\n"
     ]
    },
    {
     "name": "stdout",
     "output_type": "stream",
     "text": [
      "1\n"
     ]
    },
    {
     "name": "stdout",
     "output_type": "stream",
     "text": [
      "2\n"
     ]
    },
    {
     "name": "stdout",
     "output_type": "stream",
     "text": [
      "3\n"
     ]
    },
    {
     "name": "stdout",
     "output_type": "stream",
     "text": [
      "4\n"
     ]
    },
    {
     "name": "stdout",
     "output_type": "stream",
     "text": [
      "5\n"
     ]
    },
    {
     "name": "stdout",
     "output_type": "stream",
     "text": [
      "6\n"
     ]
    },
    {
     "name": "stdout",
     "output_type": "stream",
     "text": [
      "7\n"
     ]
    },
    {
     "name": "stdout",
     "output_type": "stream",
     "text": [
      "8\n"
     ]
    },
    {
     "name": "stdout",
     "output_type": "stream",
     "text": [
      "9\n"
     ]
    },
    {
     "name": "stdout",
     "output_type": "stream",
     "text": [
      "10\n"
     ]
    },
    {
     "name": "stdout",
     "output_type": "stream",
     "text": [
      "Episode n°  23\n"
     ]
    },
    {
     "name": "stdout",
     "output_type": "stream",
     "text": [
      "0\n"
     ]
    },
    {
     "name": "stdout",
     "output_type": "stream",
     "text": [
      "1\n"
     ]
    },
    {
     "name": "stdout",
     "output_type": "stream",
     "text": [
      "2\n"
     ]
    },
    {
     "name": "stdout",
     "output_type": "stream",
     "text": [
      "3\n"
     ]
    },
    {
     "name": "stdout",
     "output_type": "stream",
     "text": [
      "4\n"
     ]
    },
    {
     "name": "stdout",
     "output_type": "stream",
     "text": [
      "5\n"
     ]
    },
    {
     "name": "stdout",
     "output_type": "stream",
     "text": [
      "6\n"
     ]
    },
    {
     "name": "stdout",
     "output_type": "stream",
     "text": [
      "7\n"
     ]
    },
    {
     "name": "stdout",
     "output_type": "stream",
     "text": [
      "8\n"
     ]
    },
    {
     "name": "stdout",
     "output_type": "stream",
     "text": [
      "9\n"
     ]
    },
    {
     "name": "stdout",
     "output_type": "stream",
     "text": [
      "10\n"
     ]
    },
    {
     "name": "stdout",
     "output_type": "stream",
     "text": [
      "Episode n°  24\n"
     ]
    },
    {
     "name": "stdout",
     "output_type": "stream",
     "text": [
      "0\n"
     ]
    },
    {
     "name": "stdout",
     "output_type": "stream",
     "text": [
      "1\n"
     ]
    },
    {
     "name": "stdout",
     "output_type": "stream",
     "text": [
      "2\n"
     ]
    },
    {
     "name": "stdout",
     "output_type": "stream",
     "text": [
      "3\n"
     ]
    },
    {
     "name": "stdout",
     "output_type": "stream",
     "text": [
      "4\n"
     ]
    },
    {
     "name": "stdout",
     "output_type": "stream",
     "text": [
      "5\n"
     ]
    },
    {
     "name": "stdout",
     "output_type": "stream",
     "text": [
      "6\n"
     ]
    },
    {
     "name": "stdout",
     "output_type": "stream",
     "text": [
      "7\n"
     ]
    },
    {
     "name": "stdout",
     "output_type": "stream",
     "text": [
      "8\n"
     ]
    },
    {
     "name": "stdout",
     "output_type": "stream",
     "text": [
      "9\n"
     ]
    },
    {
     "name": "stdout",
     "output_type": "stream",
     "text": [
      "10\n"
     ]
    },
    {
     "name": "stdout",
     "output_type": "stream",
     "text": [
      "Episode n°  25\n"
     ]
    },
    {
     "name": "stdout",
     "output_type": "stream",
     "text": [
      "0\n"
     ]
    },
    {
     "name": "stdout",
     "output_type": "stream",
     "text": [
      "1\n"
     ]
    },
    {
     "name": "stdout",
     "output_type": "stream",
     "text": [
      "2\n"
     ]
    },
    {
     "name": "stdout",
     "output_type": "stream",
     "text": [
      "3\n"
     ]
    },
    {
     "name": "stdout",
     "output_type": "stream",
     "text": [
      "4\n"
     ]
    },
    {
     "name": "stdout",
     "output_type": "stream",
     "text": [
      "5\n"
     ]
    },
    {
     "name": "stdout",
     "output_type": "stream",
     "text": [
      "6\n"
     ]
    },
    {
     "name": "stdout",
     "output_type": "stream",
     "text": [
      "7\n"
     ]
    },
    {
     "name": "stdout",
     "output_type": "stream",
     "text": [
      "8\n"
     ]
    },
    {
     "name": "stdout",
     "output_type": "stream",
     "text": [
      "9\n"
     ]
    },
    {
     "name": "stdout",
     "output_type": "stream",
     "text": [
      "10\n"
     ]
    },
    {
     "name": "stdout",
     "output_type": "stream",
     "text": [
      "Episode n°  26\n"
     ]
    },
    {
     "name": "stdout",
     "output_type": "stream",
     "text": [
      "0\n"
     ]
    },
    {
     "name": "stdout",
     "output_type": "stream",
     "text": [
      "1\n"
     ]
    },
    {
     "name": "stdout",
     "output_type": "stream",
     "text": [
      "2\n"
     ]
    },
    {
     "name": "stdout",
     "output_type": "stream",
     "text": [
      "3\n"
     ]
    },
    {
     "name": "stdout",
     "output_type": "stream",
     "text": [
      "4\n"
     ]
    },
    {
     "name": "stdout",
     "output_type": "stream",
     "text": [
      "5\n"
     ]
    },
    {
     "name": "stdout",
     "output_type": "stream",
     "text": [
      "6\n"
     ]
    },
    {
     "name": "stdout",
     "output_type": "stream",
     "text": [
      "7\n"
     ]
    },
    {
     "name": "stdout",
     "output_type": "stream",
     "text": [
      "8\n"
     ]
    },
    {
     "name": "stdout",
     "output_type": "stream",
     "text": [
      "9\n"
     ]
    },
    {
     "name": "stdout",
     "output_type": "stream",
     "text": [
      "10\n"
     ]
    },
    {
     "name": "stdout",
     "output_type": "stream",
     "text": [
      "Episode n°  27\n"
     ]
    },
    {
     "name": "stdout",
     "output_type": "stream",
     "text": [
      "0\n"
     ]
    },
    {
     "name": "stdout",
     "output_type": "stream",
     "text": [
      "1\n"
     ]
    },
    {
     "name": "stdout",
     "output_type": "stream",
     "text": [
      "2\n"
     ]
    },
    {
     "name": "stdout",
     "output_type": "stream",
     "text": [
      "3\n"
     ]
    },
    {
     "name": "stdout",
     "output_type": "stream",
     "text": [
      "4\n"
     ]
    },
    {
     "name": "stdout",
     "output_type": "stream",
     "text": [
      "5\n"
     ]
    },
    {
     "name": "stdout",
     "output_type": "stream",
     "text": [
      "6\n"
     ]
    },
    {
     "name": "stdout",
     "output_type": "stream",
     "text": [
      "7\n"
     ]
    },
    {
     "name": "stdout",
     "output_type": "stream",
     "text": [
      "8\n"
     ]
    },
    {
     "name": "stdout",
     "output_type": "stream",
     "text": [
      "9\n"
     ]
    },
    {
     "name": "stdout",
     "output_type": "stream",
     "text": [
      "10\n"
     ]
    },
    {
     "name": "stdout",
     "output_type": "stream",
     "text": [
      "Episode n°  28\n"
     ]
    },
    {
     "name": "stdout",
     "output_type": "stream",
     "text": [
      "0\n"
     ]
    },
    {
     "name": "stdout",
     "output_type": "stream",
     "text": [
      "1\n"
     ]
    },
    {
     "name": "stdout",
     "output_type": "stream",
     "text": [
      "2\n"
     ]
    },
    {
     "name": "stdout",
     "output_type": "stream",
     "text": [
      "3\n"
     ]
    },
    {
     "name": "stdout",
     "output_type": "stream",
     "text": [
      "4\n"
     ]
    },
    {
     "name": "stdout",
     "output_type": "stream",
     "text": [
      "Episode n°  29\n"
     ]
    },
    {
     "name": "stdout",
     "output_type": "stream",
     "text": [
      "0\n"
     ]
    },
    {
     "name": "stdout",
     "output_type": "stream",
     "text": [
      "1\n"
     ]
    },
    {
     "name": "stdout",
     "output_type": "stream",
     "text": [
      "2\n"
     ]
    },
    {
     "name": "stdout",
     "output_type": "stream",
     "text": [
      "3\n"
     ]
    },
    {
     "name": "stdout",
     "output_type": "stream",
     "text": [
      "4\n"
     ]
    },
    {
     "name": "stdout",
     "output_type": "stream",
     "text": [
      "5\n"
     ]
    },
    {
     "name": "stdout",
     "output_type": "stream",
     "text": [
      "6\n"
     ]
    },
    {
     "name": "stdout",
     "output_type": "stream",
     "text": [
      "7\n"
     ]
    },
    {
     "name": "stdout",
     "output_type": "stream",
     "text": [
      "8\n"
     ]
    },
    {
     "name": "stdout",
     "output_type": "stream",
     "text": [
      "Episode n°  30\n"
     ]
    },
    {
     "name": "stdout",
     "output_type": "stream",
     "text": [
      "0\n"
     ]
    },
    {
     "name": "stdout",
     "output_type": "stream",
     "text": [
      "1\n"
     ]
    },
    {
     "name": "stdout",
     "output_type": "stream",
     "text": [
      "2\n"
     ]
    },
    {
     "name": "stdout",
     "output_type": "stream",
     "text": [
      "3\n"
     ]
    },
    {
     "name": "stdout",
     "output_type": "stream",
     "text": [
      "4\n"
     ]
    },
    {
     "name": "stdout",
     "output_type": "stream",
     "text": [
      "5\n"
     ]
    },
    {
     "name": "stdout",
     "output_type": "stream",
     "text": [
      "6\n"
     ]
    },
    {
     "name": "stdout",
     "output_type": "stream",
     "text": [
      "7\n"
     ]
    },
    {
     "name": "stdout",
     "output_type": "stream",
     "text": [
      "8\n"
     ]
    },
    {
     "name": "stdout",
     "output_type": "stream",
     "text": [
      "9\n"
     ]
    },
    {
     "name": "stdout",
     "output_type": "stream",
     "text": [
      "10\n"
     ]
    },
    {
     "name": "stdout",
     "output_type": "stream",
     "text": [
      "Episode n°  31\n"
     ]
    },
    {
     "name": "stdout",
     "output_type": "stream",
     "text": [
      "0\n"
     ]
    },
    {
     "name": "stdout",
     "output_type": "stream",
     "text": [
      "1\n"
     ]
    },
    {
     "name": "stdout",
     "output_type": "stream",
     "text": [
      "Episode n°  32\n"
     ]
    },
    {
     "name": "stdout",
     "output_type": "stream",
     "text": [
      "0\n"
     ]
    },
    {
     "name": "stdout",
     "output_type": "stream",
     "text": [
      "1\n"
     ]
    },
    {
     "name": "stdout",
     "output_type": "stream",
     "text": [
      "2\n"
     ]
    },
    {
     "name": "stdout",
     "output_type": "stream",
     "text": [
      "Episode n°  33\n"
     ]
    },
    {
     "name": "stdout",
     "output_type": "stream",
     "text": [
      "0\n"
     ]
    },
    {
     "name": "stdout",
     "output_type": "stream",
     "text": [
      "1\n"
     ]
    },
    {
     "name": "stdout",
     "output_type": "stream",
     "text": [
      "2\n"
     ]
    },
    {
     "name": "stdout",
     "output_type": "stream",
     "text": [
      "3\n"
     ]
    },
    {
     "name": "stdout",
     "output_type": "stream",
     "text": [
      "4\n"
     ]
    },
    {
     "name": "stdout",
     "output_type": "stream",
     "text": [
      "5\n"
     ]
    },
    {
     "name": "stdout",
     "output_type": "stream",
     "text": [
      "6\n"
     ]
    },
    {
     "name": "stdout",
     "output_type": "stream",
     "text": [
      "7\n"
     ]
    },
    {
     "name": "stdout",
     "output_type": "stream",
     "text": [
      "8\n"
     ]
    },
    {
     "name": "stdout",
     "output_type": "stream",
     "text": [
      "9\n"
     ]
    },
    {
     "name": "stdout",
     "output_type": "stream",
     "text": [
      "10\n"
     ]
    },
    {
     "name": "stdout",
     "output_type": "stream",
     "text": [
      "Episode n°  34\n"
     ]
    },
    {
     "name": "stdout",
     "output_type": "stream",
     "text": [
      "0\n"
     ]
    },
    {
     "name": "stdout",
     "output_type": "stream",
     "text": [
      "1\n"
     ]
    },
    {
     "name": "stdout",
     "output_type": "stream",
     "text": [
      "2\n"
     ]
    },
    {
     "name": "stdout",
     "output_type": "stream",
     "text": [
      "3\n"
     ]
    },
    {
     "name": "stdout",
     "output_type": "stream",
     "text": [
      "4\n"
     ]
    },
    {
     "name": "stdout",
     "output_type": "stream",
     "text": [
      "5\n"
     ]
    },
    {
     "name": "stdout",
     "output_type": "stream",
     "text": [
      "6\n"
     ]
    },
    {
     "name": "stdout",
     "output_type": "stream",
     "text": [
      "7\n"
     ]
    },
    {
     "name": "stdout",
     "output_type": "stream",
     "text": [
      "8\n"
     ]
    },
    {
     "name": "stdout",
     "output_type": "stream",
     "text": [
      "9\n"
     ]
    },
    {
     "name": "stdout",
     "output_type": "stream",
     "text": [
      "10\n"
     ]
    },
    {
     "name": "stdout",
     "output_type": "stream",
     "text": [
      "Episode n°  35\n"
     ]
    },
    {
     "name": "stdout",
     "output_type": "stream",
     "text": [
      "0\n"
     ]
    },
    {
     "name": "stdout",
     "output_type": "stream",
     "text": [
      "1\n"
     ]
    },
    {
     "name": "stdout",
     "output_type": "stream",
     "text": [
      "2\n"
     ]
    },
    {
     "name": "stdout",
     "output_type": "stream",
     "text": [
      "3\n"
     ]
    },
    {
     "name": "stdout",
     "output_type": "stream",
     "text": [
      "4\n"
     ]
    },
    {
     "name": "stdout",
     "output_type": "stream",
     "text": [
      "5\n"
     ]
    },
    {
     "name": "stdout",
     "output_type": "stream",
     "text": [
      "6\n"
     ]
    },
    {
     "name": "stdout",
     "output_type": "stream",
     "text": [
      "7\n"
     ]
    },
    {
     "name": "stdout",
     "output_type": "stream",
     "text": [
      "8\n"
     ]
    },
    {
     "name": "stdout",
     "output_type": "stream",
     "text": [
      "Episode n°  36\n"
     ]
    },
    {
     "name": "stdout",
     "output_type": "stream",
     "text": [
      "0\n"
     ]
    },
    {
     "name": "stdout",
     "output_type": "stream",
     "text": [
      "1\n"
     ]
    },
    {
     "name": "stdout",
     "output_type": "stream",
     "text": [
      "2\n"
     ]
    },
    {
     "name": "stdout",
     "output_type": "stream",
     "text": [
      "3\n"
     ]
    },
    {
     "name": "stdout",
     "output_type": "stream",
     "text": [
      "4\n"
     ]
    },
    {
     "name": "stdout",
     "output_type": "stream",
     "text": [
      "5\n"
     ]
    },
    {
     "name": "stdout",
     "output_type": "stream",
     "text": [
      "6\n"
     ]
    },
    {
     "name": "stdout",
     "output_type": "stream",
     "text": [
      "7\n"
     ]
    },
    {
     "name": "stdout",
     "output_type": "stream",
     "text": [
      "8\n"
     ]
    },
    {
     "name": "stdout",
     "output_type": "stream",
     "text": [
      "9\n"
     ]
    },
    {
     "name": "stdout",
     "output_type": "stream",
     "text": [
      "10\n"
     ]
    },
    {
     "name": "stdout",
     "output_type": "stream",
     "text": [
      "Episode n°  37\n"
     ]
    },
    {
     "name": "stdout",
     "output_type": "stream",
     "text": [
      "0\n"
     ]
    },
    {
     "name": "stdout",
     "output_type": "stream",
     "text": [
      "1\n"
     ]
    },
    {
     "name": "stdout",
     "output_type": "stream",
     "text": [
      "2\n"
     ]
    },
    {
     "name": "stdout",
     "output_type": "stream",
     "text": [
      "3\n"
     ]
    },
    {
     "name": "stdout",
     "output_type": "stream",
     "text": [
      "4\n"
     ]
    },
    {
     "name": "stdout",
     "output_type": "stream",
     "text": [
      "5\n"
     ]
    },
    {
     "name": "stdout",
     "output_type": "stream",
     "text": [
      "6\n"
     ]
    },
    {
     "name": "stdout",
     "output_type": "stream",
     "text": [
      "7\n"
     ]
    },
    {
     "name": "stdout",
     "output_type": "stream",
     "text": [
      "8\n"
     ]
    },
    {
     "name": "stdout",
     "output_type": "stream",
     "text": [
      "9\n"
     ]
    },
    {
     "name": "stdout",
     "output_type": "stream",
     "text": [
      "10\n"
     ]
    },
    {
     "name": "stdout",
     "output_type": "stream",
     "text": [
      "Episode n°  38\n"
     ]
    },
    {
     "name": "stdout",
     "output_type": "stream",
     "text": [
      "0\n"
     ]
    },
    {
     "name": "stdout",
     "output_type": "stream",
     "text": [
      "1\n"
     ]
    },
    {
     "name": "stdout",
     "output_type": "stream",
     "text": [
      "2\n"
     ]
    },
    {
     "name": "stdout",
     "output_type": "stream",
     "text": [
      "3\n"
     ]
    },
    {
     "name": "stdout",
     "output_type": "stream",
     "text": [
      "4\n"
     ]
    },
    {
     "name": "stdout",
     "output_type": "stream",
     "text": [
      "5\n"
     ]
    },
    {
     "name": "stdout",
     "output_type": "stream",
     "text": [
      "6\n"
     ]
    },
    {
     "name": "stdout",
     "output_type": "stream",
     "text": [
      "7\n"
     ]
    },
    {
     "name": "stdout",
     "output_type": "stream",
     "text": [
      "8\n"
     ]
    },
    {
     "name": "stdout",
     "output_type": "stream",
     "text": [
      "9\n"
     ]
    },
    {
     "name": "stdout",
     "output_type": "stream",
     "text": [
      "10\n"
     ]
    },
    {
     "name": "stdout",
     "output_type": "stream",
     "text": [
      "Episode n°  39\n"
     ]
    },
    {
     "name": "stdout",
     "output_type": "stream",
     "text": [
      "0\n"
     ]
    },
    {
     "name": "stdout",
     "output_type": "stream",
     "text": [
      "1\n"
     ]
    },
    {
     "name": "stdout",
     "output_type": "stream",
     "text": [
      "2\n"
     ]
    }
   ],
   "source": [
    "list_rewards, list_steps = fit(50,states_list)"
   ]
  },
  {
   "cell_type": "markdown",
   "id": "leading-bench",
   "metadata": {
    "papermill": {
     "duration": null,
     "end_time": null,
     "exception": null,
     "start_time": null,
     "status": "pending"
    },
    "tags": []
   },
   "source": []
  },
  {
   "cell_type": "raw",
   "id": "closing-nicholas",
   "metadata": {
    "papermill": {
     "duration": null,
     "end_time": null,
     "exception": null,
     "start_time": null,
     "status": "pending"
    },
    "tags": []
   },
   "source": [
    "import matplotlib.pyplot as plt"
   ]
  },
  {
   "cell_type": "code",
   "execution_count": null,
   "id": "ceramic-squad",
   "metadata": {
    "papermill": {
     "duration": null,
     "end_time": null,
     "exception": null,
     "start_time": null,
     "status": "pending"
    },
    "tags": []
   },
   "outputs": [],
   "source": [
    "import matplotlib.pyplot as plt"
   ]
  },
  {
   "cell_type": "code",
   "execution_count": null,
   "id": "juvenile-trade",
   "metadata": {
    "papermill": {
     "duration": null,
     "end_time": null,
     "exception": null,
     "start_time": null,
     "status": "pending"
    },
    "tags": []
   },
   "outputs": [],
   "source": [
    "plt.plot(list_rewards, 'orange')\n",
    "plt.ylabel('Total reward')\n",
    "plt.xlabel('Episode')"
   ]
  },
  {
   "cell_type": "code",
   "execution_count": null,
   "id": "excess-journalist",
   "metadata": {
    "papermill": {
     "duration": null,
     "end_time": null,
     "exception": null,
     "start_time": null,
     "status": "pending"
    },
    "tags": []
   },
   "outputs": [],
   "source": [
    "plt.plot(list_steps, 'cyan')\n",
    "plt.ylabel('Nombre d étapes')\n",
    "plt.xlabel('Episode')"
   ]
  },
  {
   "cell_type": "code",
   "execution_count": null,
   "id": "traditional-knight",
   "metadata": {
    "papermill": {
     "duration": null,
     "end_time": null,
     "exception": null,
     "start_time": null,
     "status": "pending"
    },
    "tags": []
   },
   "outputs": [],
   "source": [
    "Q"
   ]
  },
  {
   "cell_type": "code",
   "execution_count": null,
   "id": "bright-israel",
   "metadata": {
    "papermill": {
     "duration": null,
     "end_time": null,
     "exception": null,
     "start_time": null,
     "status": "pending"
    },
    "tags": []
   },
   "outputs": [],
   "source": []
  }
 ],
 "metadata": {
  "kernelspec": {
   "display_name": "Python 3",
   "language": "python",
   "name": "python3"
  },
  "language_info": {
   "codemirror_mode": {
    "name": "ipython",
    "version": 3
   },
   "file_extension": ".py",
   "mimetype": "text/x-python",
   "name": "python",
   "nbconvert_exporter": "python",
   "pygments_lexer": "ipython3",
   "version": "3.6.4"
  },
  "papermill": {
   "default_parameters": {},
   "duration": null,
   "end_time": null,
   "environment_variables": {},
   "exception": null,
   "input_path": "__notebook__.ipynb",
   "output_path": "__notebook__.ipynb",
   "parameters": {},
   "start_time": "2021-04-20T23:51:42.500351",
   "version": "2.3.2"
  }
 },
 "nbformat": 4,
 "nbformat_minor": 5
}